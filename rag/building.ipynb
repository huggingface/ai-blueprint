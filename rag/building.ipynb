{
 "cells": [
  {
   "cell_type": "markdown",
   "metadata": {},
   "source": [
    "# Building a RAG pipeline with a SmolLM and some rerankers\n",
    "\n",
    "We will be using the output of the [indexing](./indexing.ipynb) notebook to build a RAG pipeline. We have seen how to index the Hugging Face Hub and perform vector search on it. Now, we will build a RAG pipeline that uses this vector search index to retrieve relevant information from a company's documents and uses a SmolLM model to answer questions. Also, we will show how to use rerankers to improve the quality of the RAG pipeline.\n",
    "\n",
    "## Hugging Face as a vector search backend\n",
    "\n",
    "A brief recap of the previous notebook, we use Hugging Face as vector search backend and can call it as a REST API through the Gradio Python Client."
   ]
  },
  {
   "cell_type": "code",
   "execution_count": 18,
   "metadata": {},
   "outputs": [
    {
     "name": "stdout",
     "output_type": "stream",
     "text": [
      "Loaded as API: https://smol-blueprint-vector-search-hub.hf.space/ ✔\n"
     ]
    },
    {
     "data": {
      "text/html": [
       "<div>\n",
       "<style scoped>\n",
       "    .dataframe tbody tr th:only-of-type {\n",
       "        vertical-align: middle;\n",
       "    }\n",
       "\n",
       "    .dataframe tbody tr th {\n",
       "        vertical-align: top;\n",
       "    }\n",
       "\n",
       "    .dataframe thead th {\n",
       "        text-align: right;\n",
       "    }\n",
       "</style>\n",
       "<table border=\"1\" class=\"dataframe\">\n",
       "  <thead>\n",
       "    <tr style=\"text-align: right;\">\n",
       "      <th></th>\n",
       "      <th>chunk</th>\n",
       "      <th>url</th>\n",
       "      <th>distance</th>\n",
       "    </tr>\n",
       "  </thead>\n",
       "  <tbody>\n",
       "    <tr>\n",
       "      <th>0</th>\n",
       "      <td>The last decade was a big one for artificial i...</td>\n",
       "      <td>https://www.bbc.com/news/technology-51064369</td>\n",
       "      <td>0.260197</td>\n",
       "    </tr>\n",
       "    <tr>\n",
       "      <th>1</th>\n",
       "      <td>\"The manifold of things which were lumped into...</td>\n",
       "      <td>https://www.bbc.com/news/technology-51064369</td>\n",
       "      <td>0.358736</td>\n",
       "    </tr>\n",
       "    <tr>\n",
       "      <th>2</th>\n",
       "      <td>Artificial intelligence (AI) is one of the mos...</td>\n",
       "      <td>https://www.bbc.co.uk/news/business-48139212</td>\n",
       "      <td>0.364774</td>\n",
       "    </tr>\n",
       "    <tr>\n",
       "      <th>3</th>\n",
       "      <td>\"\\nSeveral others started to talk about AGI be...</td>\n",
       "      <td>https://www.bbc.com/news/technology-51064369</td>\n",
       "      <td>0.370624</td>\n",
       "    </tr>\n",
       "    <tr>\n",
       "      <th>4</th>\n",
       "      <td>Can artificial intelligence predict the future...</td>\n",
       "      <td>https://www.bbc.com/news/av/technology-46104433</td>\n",
       "      <td>0.376021</td>\n",
       "    </tr>\n",
       "  </tbody>\n",
       "</table>\n",
       "</div>"
      ],
      "text/plain": [
       "                                               chunk  \\\n",
       "0  The last decade was a big one for artificial i...   \n",
       "1  \"The manifold of things which were lumped into...   \n",
       "2  Artificial intelligence (AI) is one of the mos...   \n",
       "3  \"\\nSeveral others started to talk about AGI be...   \n",
       "4  Can artificial intelligence predict the future...   \n",
       "\n",
       "                                               url  distance  \n",
       "0     https://www.bbc.com/news/technology-51064369  0.260197  \n",
       "1     https://www.bbc.com/news/technology-51064369  0.358736  \n",
       "2     https://www.bbc.co.uk/news/business-48139212  0.364774  \n",
       "3     https://www.bbc.com/news/technology-51064369  0.370624  \n",
       "4  https://www.bbc.com/news/av/technology-46104433  0.376021  "
      ]
     },
     "execution_count": 18,
     "metadata": {},
     "output_type": "execute_result"
    }
   ],
   "source": [
    "from gradio_client import Client\n",
    "import pandas as pd\n",
    "\n",
    "gradio_client = Client(\"https://smol-blueprint-vector-search-hub.hf.space/\")\n",
    "\n",
    "\n",
    "def similarity_search(query: str, k: int = 5):\n",
    "    results = gradio_client.predict(api_name=\"/similarity_search\", query=query, k=k)\n",
    "    return pd.DataFrame(data=results[\"data\"], columns=results[\"headers\"])\n",
    "\n",
    "\n",
    "similarity_search(\"What is the future of AI?\", k=5)"
   ]
  },
  {
   "cell_type": "markdown",
   "metadata": {},
   "source": [
    "## Reranking retrieved documents\n",
    "\n",
    "Whenever we retrieve documents from the vector search backend, we can use a reranker to improve the quality of the retrieved documents before passing them to the LLM. We will use the [sentence-transformers library](https://huggingface.co/sentence-transformers). You can find the best models using the [MTEB leaderboard](https://huggingface.co/spaces/mteb/leaderboard). \n",
    "\n",
    "We will first retrieve 50 documents and then use [sentence-transformers/all-MiniLM-L12-v2](https://huggingface.co/sentence-transformers/all-MiniLM-L12-v2) to rerank the documents and return the top 5."
   ]
  },
  {
   "cell_type": "code",
   "execution_count": 31,
   "metadata": {},
   "outputs": [
    {
     "name": "stderr",
     "output_type": "stream",
     "text": [
      "Some weights of BertForSequenceClassification were not initialized from the model checkpoint at sentence-transformers/all-MiniLM-L12-v2 and are newly initialized: ['classifier.bias', 'classifier.weight']\n",
      "You should probably TRAIN this model on a down-stream task to be able to use it for predictions and inference.\n"
     ]
    },
    {
     "data": {
      "text/html": [
       "<div>\n",
       "<style scoped>\n",
       "    .dataframe tbody tr th:only-of-type {\n",
       "        vertical-align: middle;\n",
       "    }\n",
       "\n",
       "    .dataframe tbody tr th {\n",
       "        vertical-align: top;\n",
       "    }\n",
       "\n",
       "    .dataframe thead th {\n",
       "        text-align: right;\n",
       "    }\n",
       "</style>\n",
       "<table border=\"1\" class=\"dataframe\">\n",
       "  <thead>\n",
       "    <tr style=\"text-align: right;\">\n",
       "      <th></th>\n",
       "      <th>chunk</th>\n",
       "      <th>url</th>\n",
       "      <th>distance</th>\n",
       "      <th>rank</th>\n",
       "    </tr>\n",
       "  </thead>\n",
       "  <tbody>\n",
       "    <tr>\n",
       "      <th>7</th>\n",
       "      <td>- Video: Exactly what is AI?\\n- Which jobs wil...</td>\n",
       "      <td>https://www.bbc.com/news/technology-34066941</td>\n",
       "      <td>0.392402</td>\n",
       "      <td>0.498180</td>\n",
       "    </tr>\n",
       "    <tr>\n",
       "      <th>6</th>\n",
       "      <td>Google has its own AI labs and has been invest...</td>\n",
       "      <td>http://www.bbc.com/news/technology-30432493</td>\n",
       "      <td>0.391550</td>\n",
       "      <td>0.497452</td>\n",
       "    </tr>\n",
       "    <tr>\n",
       "      <th>5</th>\n",
       "      <td>\"This is why AI is a long-term scientific rese...</td>\n",
       "      <td>https://www.bbc.com/news/technology-51064369</td>\n",
       "      <td>0.384782</td>\n",
       "      <td>0.496838</td>\n",
       "    </tr>\n",
       "    <tr>\n",
       "      <th>2</th>\n",
       "      <td>Artificial intelligence (AI) is one of the mos...</td>\n",
       "      <td>https://www.bbc.co.uk/news/business-48139212</td>\n",
       "      <td>0.364774</td>\n",
       "      <td>0.496125</td>\n",
       "    </tr>\n",
       "    <tr>\n",
       "      <th>8</th>\n",
       "      <td>Singularity: The robots are coming to steal ou...</td>\n",
       "      <td>http://www.bbc.co.uk/news/technology-25000756</td>\n",
       "      <td>0.395984</td>\n",
       "      <td>0.495883</td>\n",
       "    </tr>\n",
       "    <tr>\n",
       "      <th>3</th>\n",
       "      <td>\"\\nSeveral others started to talk about AGI be...</td>\n",
       "      <td>https://www.bbc.com/news/technology-51064369</td>\n",
       "      <td>0.370624</td>\n",
       "      <td>0.495376</td>\n",
       "    </tr>\n",
       "    <tr>\n",
       "      <th>0</th>\n",
       "      <td>The last decade was a big one for artificial i...</td>\n",
       "      <td>https://www.bbc.com/news/technology-51064369</td>\n",
       "      <td>0.260197</td>\n",
       "      <td>0.494808</td>\n",
       "    </tr>\n",
       "    <tr>\n",
       "      <th>1</th>\n",
       "      <td>\"The manifold of things which were lumped into...</td>\n",
       "      <td>https://www.bbc.com/news/technology-51064369</td>\n",
       "      <td>0.358736</td>\n",
       "      <td>0.494693</td>\n",
       "    </tr>\n",
       "    <tr>\n",
       "      <th>4</th>\n",
       "      <td>Can artificial intelligence predict the future...</td>\n",
       "      <td>https://www.bbc.com/news/av/technology-46104433</td>\n",
       "      <td>0.376021</td>\n",
       "      <td>0.489290</td>\n",
       "    </tr>\n",
       "  </tbody>\n",
       "</table>\n",
       "</div>"
      ],
      "text/plain": [
       "                                               chunk  \\\n",
       "7  - Video: Exactly what is AI?\\n- Which jobs wil...   \n",
       "6  Google has its own AI labs and has been invest...   \n",
       "5  \"This is why AI is a long-term scientific rese...   \n",
       "2  Artificial intelligence (AI) is one of the mos...   \n",
       "8  Singularity: The robots are coming to steal ou...   \n",
       "3  \"\\nSeveral others started to talk about AGI be...   \n",
       "0  The last decade was a big one for artificial i...   \n",
       "1  \"The manifold of things which were lumped into...   \n",
       "4  Can artificial intelligence predict the future...   \n",
       "\n",
       "                                               url  distance      rank  \n",
       "7     https://www.bbc.com/news/technology-34066941  0.392402  0.498180  \n",
       "6      http://www.bbc.com/news/technology-30432493  0.391550  0.497452  \n",
       "5     https://www.bbc.com/news/technology-51064369  0.384782  0.496838  \n",
       "2     https://www.bbc.co.uk/news/business-48139212  0.364774  0.496125  \n",
       "8    http://www.bbc.co.uk/news/technology-25000756  0.395984  0.495883  \n",
       "3     https://www.bbc.com/news/technology-51064369  0.370624  0.495376  \n",
       "0     https://www.bbc.com/news/technology-51064369  0.260197  0.494808  \n",
       "1     https://www.bbc.com/news/technology-51064369  0.358736  0.494693  \n",
       "4  https://www.bbc.com/news/av/technology-46104433  0.376021  0.489290  "
      ]
     },
     "execution_count": 31,
     "metadata": {},
     "output_type": "execute_result"
    }
   ],
   "source": [
    "from sentence_transformers import CrossEncoder\n",
    "\n",
    "reranker = CrossEncoder(\"sentence-transformers/all-MiniLM-L12-v2\")\n",
    "\n",
    "\n",
    "def query_and_rerank_documents(query: str, k_retrieved: int = 10):\n",
    "    documents = similarity_search(query, k_retrieved)\n",
    "    documents = documents.drop_duplicates(\"chunk\")\n",
    "    documents[\"rank\"] = reranker.predict([[query, hit] for hit in documents[\"chunk\"]])\n",
    "    reranked_documents = documents.sort_values(by=\"rank\", ascending=False)\n",
    "    return reranked_documents\n",
    "\n",
    "\n",
    "query_and_rerank_documents(\"What is the future of AI?\", k_retrieved=10)"
   ]
  },
  {
   "cell_type": "markdown",
   "metadata": {},
   "source": [
    "We can see the returned documents have slightly shifted in the ranking, which is good, because we see that our reranking works."
   ]
  },
  {
   "cell_type": "markdown",
   "metadata": {},
   "source": [
    "## Generating responses with retrieved documents\n",
    "\n",
    "We will now use the retrieved documents to generate a response based on the context, while using a SmolLM model. We will use a local SmolLM with transformers and another one hosted through Hugging Face Inference API.\n",
    "\n",
    "### Inference with LLMs\n",
    "\n",
    "When using a local SmolLM, we can use different providers, like `llama-cpp`, `vllm` or `ollama`, however, for the simplicty we will use a local transformers and a model hosted on the Inference API.\n",
    "\n",
    "#### SmolLM in transformers\n",
    "\n",
    "We will use [HuggingFaceTB/SmolLM2-360M-Instruct](https://huggingface.co/HuggingFaceTB/SmolLM2-360M-Instruct) and use [the transformers integration attached to the model on the Hub](https://huggingface.co/HuggingFaceTB/SmolLM2-360M-Instruct?library=transformers)."
   ]
  },
  {
   "cell_type": "code",
   "execution_count": 6,
   "metadata": {},
   "outputs": [
    {
     "name": "stderr",
     "output_type": "stream",
     "text": [
      "Device set to use mps:0\n"
     ]
    },
    {
     "data": {
      "text/plain": [
       "[{'generated_text': [{'role': 'user', 'content': 'What is the future of AI?'},\n",
       "   {'role': 'assistant',\n",
       "    'content': \"AI is evolving rapidly, and we're on the cusp of a new era. Here are some of the key trends and advancements that will shape the future of AI:\\n\\n1. **Quantum Computing**: Quantum computers are expected to revolutionize AI by solving complex problems that are currently unsolvable by classical computers. They will also enable AI to learn from itself, making it more self-aware and capable of adapting to new situations.\\n\\n2. **Neuromorphic Computing**: Neuromorphic computing is a type of AI that mimics the human brain's structure and function. It's expected to be used in AI systems that can learn and adapt in real-time, much like the human brain.\\n\\n3. **Explainable AI (XAI)**: Explainable AI aims to make AI systems more transparent and understandable. This is important because AI systems are often used in critical applications, and it's crucial that they are transparent about their decisions.\\n\\n4. **AI in Healthcare**: AI is being used in healthcare to improve diagnosis, treatment, and patient care. For example, AI can be used to analyze medical images, detect diseases, and provide personalized treatment recommendations.\\n\\n5. **AI in Education**: AI is being used in education to make learning more interactive, personalized, and effective. AI can help students learn more efficiently, and AI can also help teachers provide more effective feedback.\\n\\n6. **AI in Transportation**: AI is being used in transportation to improve safety, efficiency, and sustainability. For example, AI can be used to optimize traffic flow, predict traffic jams, and detect potential accidents.\\n\\n7. **AI in Agriculture**: AI is being used in agriculture to improve crop yields, predict weather patterns, and detect diseases. AI can also be used to optimize farming practices, such as irrigation and pest control.\\n\\n8. **AI in Virtual Reality**: AI is being used in virtual reality to create more immersive and realistic experiences. For example, AI can be used to create virtual environments that are more realistic than real-world environments.\\n\\n9. **AI in Robotics**: AI is being used in robotics to improve the performance of robots. For example, AI can be used to improve the navigation of robots, detect obstacles, and perform tasks that are currently difficult for robots.\\n\\n10. **AI in Social Media**: AI is being used in social media to improve the quality of content, detect spam, and provide personalized recommendations. AI can also be used to analyze social media data to understand public opinion and sentiment.\\n\\nThese are just a few of the trends and advancements that will shape the future of AI. The field is constantly evolving, and we're on the cusp of new breakthroughs and innovations.\"}]}]"
      ]
     },
     "execution_count": 6,
     "metadata": {},
     "output_type": "execute_result"
    }
   ],
   "source": [
    "from transformers import pipeline\n",
    "\n",
    "pipe = pipeline(\"text-generation\", model=\"HuggingFaceTB/SmolLM2-360M-Instruct\")\n",
    "\n",
    "\n",
    "def generate_response_transformers(query: str):\n",
    "    messages = [\n",
    "        {\n",
    "            \"role\": \"system\",\n",
    "            \"content\": \"You will receive a query and context. Only return the answer based on the context without mentioning the context.\",\n",
    "        },\n",
    "        {\"role\": \"user\", \"content\": query},\n",
    "    ]\n",
    "    return pipe(messages, max_new_tokens=4000)\n",
    "\n",
    "\n",
    "generate_response_transformers(\"What is the future of AI?\")"
   ]
  },
  {
   "cell_type": "markdown",
   "metadata": {},
   "source": [
    "### SmolLM in Hugging Face Inference API\n",
    "\n",
    "We will use the [serverless Hugging Face Inference API](https://huggingface.co/inference-api). This is free and means we don't have to worry about hosting the model. We can find models available for inference [through some basic filters on the Hub](https://huggingface.co/models?inference=warm&pipeline_tag=text-generation&sort=trending). We will use the [meta-llama/Llama-3.2-1B-Instruct](https://huggingface.co/meta-llama/Llama-3.2-1B-Instruct) model and call it with [the provided inference endpoint snippet](https://huggingface.co/meta-llama/Llama-3.2-1B-Instruct?inference_api=true)."
   ]
  },
  {
   "cell_type": "code",
   "execution_count": 28,
   "metadata": {},
   "outputs": [
    {
     "data": {
      "text/plain": [
       "ChatCompletionOutputMessage(role='assistant', content='The future of AI is growing rapidly with a potential boom in various industries like healthcare, finance, transportation, and education. The integration of AI into these sectors creates new opportunities for better user experience and business performance. For instance, AI can aid hospitals to combat misinformation and provide more personalized patient care. In the financial sector, AI helps make smarter investment decisions. Furthermore, AI-powered robots can improve the efficiency of logistics, such as helping package and shipping products efficiently. Education is another sector poised for transformation with AI-driven tools enabling students to learn at a faster pace and more effectively.', tool_calls=None)"
      ]
     },
     "execution_count": 28,
     "metadata": {},
     "output_type": "execute_result"
    }
   ],
   "source": [
    "from huggingface_hub import get_token, InferenceClient\n",
    "\n",
    "\n",
    "inference_client = InferenceClient(api_key=get_token())\n",
    "\n",
    "\n",
    "def generate_response_api(query: str):\n",
    "    messages = [\n",
    "        {\n",
    "            \"role\": \"system\",\n",
    "            \"content\": \"You will receive a query and context. Only return the answer based on the context without mentioning the context.\",\n",
    "        },\n",
    "        {\"role\": \"user\", \"content\": query},\n",
    "    ]\n",
    "    completion = inference_client.chat.completions.create(\n",
    "        model=\"HuggingFaceTB/SmolLM2-360M-Instruct\", messages=messages, max_tokens=2000\n",
    "    )\n",
    "\n",
    "    return completion.choices[0].message\n",
    "\n",
    "\n",
    "generate_response_api(\"What is the future of AI?\")"
   ]
  },
  {
   "cell_type": "markdown",
   "metadata": {},
   "source": [
    "## The actual RAG pipeline\n",
    "\n",
    "We will now build a RAG pipeline that uses the vector search backend to retrieve documents, reranks them and then uses the LLM to generate a response."
   ]
  },
  {
   "cell_type": "code",
   "execution_count": 32,
   "metadata": {},
   "outputs": [
    {
     "data": {
      "text/plain": [
       "(ChatCompletionOutputMessage(role='assistant', content='Based on the provided context, I would say that the future of AI looks bright with the development and implementation of AGI (Artificial General Intelligence). AI is expected to outperform human intelligence, improve tasks and systems, and bring about transformative changes in various industries. The main drivers of this advancement include the explosion of data, increasing AI power and computational resources, and the emergence of widespread access to powerful computing. The smartphones that we use today could very well comprise AI, the streets of cities could contain smart city systems, and AI agents are already making decisions far beyond our manual control.\\n\\nThis suggests that AI encompasses a realm of possibilities beyond the knowledge of human intelligence and fortunately for us, we can expect to see the opportunities for human and AI collaboration in unprecedented ways. The question of a future where machines usurp jobs and social inequality is an element of sentiment from some organizations, but these predictions seem misguided and potentially overly pessimistic given the wide range of advancements and positive social implications of AI.', tool_calls=None),\n",
       "                                                chunk  \\\n",
       " 7  - Video: Exactly what is AI?\\n- Which jobs wil...   \n",
       " 6  Google has its own AI labs and has been invest...   \n",
       " 5  \"This is why AI is a long-term scientific rese...   \n",
       " 2  Artificial intelligence (AI) is one of the mos...   \n",
       " 8  Singularity: The robots are coming to steal ou...   \n",
       " 3  \"\\nSeveral others started to talk about AGI be...   \n",
       " 0  The last decade was a big one for artificial i...   \n",
       " 1  \"The manifold of things which were lumped into...   \n",
       " 4  Can artificial intelligence predict the future...   \n",
       " \n",
       "                                                url  distance      rank  \n",
       " 7     https://www.bbc.com/news/technology-34066941  0.392402  0.498180  \n",
       " 6      http://www.bbc.com/news/technology-30432493  0.391550  0.497452  \n",
       " 5     https://www.bbc.com/news/technology-51064369  0.384782  0.496838  \n",
       " 2     https://www.bbc.co.uk/news/business-48139212  0.364774  0.496125  \n",
       " 8    http://www.bbc.co.uk/news/technology-25000756  0.395984  0.495883  \n",
       " 3     https://www.bbc.com/news/technology-51064369  0.370624  0.495376  \n",
       " 0     https://www.bbc.com/news/technology-51064369  0.260197  0.494808  \n",
       " 1     https://www.bbc.com/news/technology-51064369  0.358736  0.494693  \n",
       " 4  https://www.bbc.com/news/av/technology-46104433  0.376021  0.489290  )"
      ]
     },
     "execution_count": 32,
     "metadata": {},
     "output_type": "execute_result"
    }
   ],
   "source": [
    "def rag_pipeline(query: str, k_retrieved: int = 10, k_reranked: int = 5):\n",
    "    documents = query_and_rerank_documents(query, k_retrieved=k_retrieved)\n",
    "    query_with_context = (\n",
    "        f\"Context: {documents['chunk'].to_list()[:k_reranked]}\\n\\nQuery: {query}\"\n",
    "    )\n",
    "    return generate_response_api(query_with_context), documents\n",
    "\n",
    "\n",
    "rag_pipeline(\"What is the future of AI?\")"
   ]
  },
  {
   "cell_type": "markdown",
   "metadata": {},
   "source": [
    "## Gradio as vector search interface\n",
    "\n",
    "We will be using [Gradio](https://github.com/gradio-app/gradio) as web application tool to create a demo interface for our RAG pipeline. We can develop this locally and then easily deploy it to Hugging Face Spaces. Lastly, we can use the Gradio client as SDK to directly interact our RAG pipeline.\n",
    "\n",
    "### Gradio as sharable app\n"
   ]
  },
  {
   "cell_type": "code",
   "execution_count": 38,
   "metadata": {},
   "outputs": [
    {
     "name": "stdout",
     "output_type": "stream",
     "text": [
      "* Running on local URL:  http://127.0.0.1:7865\n",
      "\n",
      "To create a public link, set `share=True` in `launch()`.\n"
     ]
    },
    {
     "data": {
      "text/html": [
       "<div><iframe src=\"http://127.0.0.1:7865/\" width=\"100%\" height=\"500\" allow=\"autoplay; camera; microphone; clipboard-read; clipboard-write;\" frameborder=\"0\" allowfullscreen></iframe></div>"
      ],
      "text/plain": [
       "<IPython.core.display.HTML object>"
      ]
     },
     "metadata": {},
     "output_type": "display_data"
    },
    {
     "data": {
      "text/plain": []
     },
     "execution_count": 38,
     "metadata": {},
     "output_type": "execute_result"
    }
   ],
   "source": [
    "import gradio as gr\n",
    "\n",
    "\n",
    "def rag_interface(query: str, k_retrieved: int, k_reranked: int):\n",
    "    response, documents = rag_pipeline(query, k_retrieved=k_retrieved, k_reranked=k_reranked)\n",
    "    return response.content, documents\n",
    "\n",
    "\n",
    "with gr.Blocks() as demo:\n",
    "    gr.Markdown(\"\"\"# RAG Hub Datasets \n",
    "                \n",
    "                Part of [smol blueprint](https://github.com/davidberenstein1957/smol-blueprint) - a smol blueprint for AI development, focusing on practical examples of RAG, information extraction, analysis and fine-tuning in the age of LLMs.\"\"\")\n",
    "\n",
    "    with gr.Row():\n",
    "        query_input = gr.Textbox(\n",
    "            label=\"Query\", placeholder=\"Enter your question here...\", lines=3\n",
    "        )\n",
    "\n",
    "    with gr.Row():\n",
    "        with gr.Column():\n",
    "            retrieve_slider = gr.Slider(\n",
    "                minimum=1,\n",
    "                maximum=20,\n",
    "                value=10,\n",
    "                label=\"Number of documents to retrieve\",\n",
    "            )\n",
    "        with gr.Column():\n",
    "            rerank_slider = gr.Slider(\n",
    "                minimum=1,\n",
    "                maximum=10,\n",
    "                value=5,\n",
    "                label=\"Number of documents to use after reranking\",\n",
    "            )\n",
    "\n",
    "    submit_btn = gr.Button(\"Submit\")\n",
    "    response_output = gr.Textbox(label=\"Response\", lines=10)\n",
    "    documents_output = gr.Dataframe(\n",
    "        label=\"Documents\", headers=[\"chunk\", \"url\", \"distance\", \"rank\"], wrap=True\n",
    "    )\n",
    "\n",
    "    submit_btn.click(\n",
    "        fn=rag_interface,\n",
    "        inputs=[query_input, retrieve_slider, rerank_slider],\n",
    "        outputs=[response_output, documents_output],\n",
    "    )\n",
    "\n",
    "demo.launch()"
   ]
  },
  {
   "cell_type": "markdown",
   "metadata": {},
   "source": [
    "<iframe\n",
    "\tsrc=\"https://smol-blueprint-rag-hub-datasets.hf.space\"\n",
    "\tframeborder=\"0\"\n",
    "\twidth=\"850\"\n",
    "\theight=\"450\"\n",
    "></iframe>"
   ]
  },
  {
   "cell_type": "markdown",
   "metadata": {},
   "source": [
    "### Deploying Gradio to Hugging Face Spaces\n",
    "\n",
    "We can now [deploy our Gradio application to Hugging Face Spaces](https://huggingface.co/new-space?sdk=gradio&name=rag-hub-datasets).\n",
    "\n",
    "-  Click on the \"Create Space\" button.\n",
    "-  Copy the code from the Gradio interface and paste it into an `app.py` file. Don't forget to copy the `generate_response_*` function, along with the code to execute the RAG pipeline.\n",
    "-  Create a `requirements.txt` file with `gradio-client` and `sentence-transformers`.\n",
    "-  Set a Hugging Face API as `HF_TOKEN` secret variable in the space settings, if you are using the Inference API.\n",
    "\n",
    "We wait a couple of minutes for the application to deploy et voila, we have [a public RAG interface](https://huggingface.co/spaces/smol-blueprint/rag-hub-datasets)!"
   ]
  },
  {
   "cell_type": "markdown",
   "metadata": {},
   "source": [
    "### Gradio as REST API\n",
    "\n",
    "We can now use the [Gradio client as SDK](https://www.gradio.app/guides/getting-started-with-the-python-client) to directly interact with our RAG pipeline. Each Gradio app has a API documentation that describes the available endpoints and their parameters, which you can access from the button at the bottom of the Gradio app's space page."
   ]
  },
  {
   "cell_type": "code",
   "execution_count": 40,
   "metadata": {},
   "outputs": [
    {
     "name": "stdout",
     "output_type": "stream",
     "text": [
      "Loaded as API: https://smol-blueprint-rag-hub-datasets.hf.space/ ✔\n",
      "('In the future, artificial intelligence (AI) is expected to play an increasingly significant role in various aspects of society, including object recognition, computer vision, natural language processing, robotics, and more. AI is already being used to develop products and services that enhance personal convenience, make life more efficient, and improve the quality of lives.\\n\\nAI work will also be more methodical and less reliant on high-bandwidth parallelism, setting it free from the \"wonder years\" of the 21st century. This will allow AI systems to generalize and adapt more effectively, borrowing from examples and experiences to solve problems more efficiently with fewer examples.\\n\\nArtificial intelligence is expected to see an industry growth of $23 billion by 2023, a $3.75 billion growth compared to the previous year, and to continue growing at $6.9 billion each year.\\n\\nResearchers are actively exploring various AI methods, such as symbolic, connectionist, and hybrid methods, to achieve the next step in AI capabilities. A significant focus will be on development of language models and to handle datasets with uncertainty information, as challenges still linger from the 2020s and early 2030s.\\n\\nOverall, AI is here to stay, and its use is expected to continue growing as its potential benefits are realized.', {'headers': ['chunk', 'url', 'distance', 'rank'], 'data': [['Can artificial intelligence predict the future of fashion?\\nMany fashion companies are turning to artificial intelligence (AI) to help predict future fashion trends. One system detects the colour, pattern, size and combination of clothes in social media images and e-commerce websites. The company behind it says the AI can help work out what is popular in both local and global markets.', 'https://www.bbc.com/news/av/technology-46104433', 0.37602144479751587, 0.5024859309196472], ['\"The manifold of things which were lumped into the term \"AI\" will be recognised and discussed separately,\" said Samim Winiger, a former AI researcher at Google in Berlin. \"What we called \\'AI\\' or \\'machine learning\\' during the past 10-20 years, will be seen as just yet another form of \\'computation\\'\".', 'https://www.bbc.com/news/technology-51064369', 0.35873597860336304, 0.5017600059509277], [\"Artificial intelligence (AI) is one of the most exciting technologies today, and Africa doesn't want to be left behind. Today a majority of the AI industry is in North America, Europe and Asia. Efforts are being made to train computer scientists from African nations, as AI can be used to solve many complex challenges. In a bid to improve diversity, tech giants are providing investment to develop new talent. In April, Google opened its first African AI research centre in Ghana. The AI laboratory, based in Accra, will be used to develop solutions to help improve healthcare, agriculture and education. Google's head of AI Accra Moustapha Cisse is from Senegal. After completing an undergraduate degree in maths and physics in Senegal, he taught himself AI and then went to study in Paris, before joining Facebook.\", 'https://www.bbc.co.uk/news/business-48139212', 0.364774227142334, 0.5015919208526611], ['Google has its own AI labs and has been investing heavily in AI and robotics firms.', 'http://www.bbc.com/news/technology-30432493', 0.3915504217147827, 0.5006617307662964], ['\"This is why AI is a long-term scientific research journey. \"We believe AI will be one of the most powerful enabling technologies ever created - a single invention that could unlock solutions to thousands of problems. The next decade will see renewed efforts to generalise the capabilities of AI systems to help achieve that potential - both building on methods that have already been successful and researching how to build general-purpose AI that can tackle a wide range of tasks. \"\\n\\'Far to go\\'\\nWhile AGI isn\\'t going to be created any time soon, machines have learned how to master complex tasks like:\\n- playing the ancient Chinese board game Go\\n- identifying human faces\\n- translating text into practically every language\\n- spotting tumours\\n- driving cars\\n- identifying animals. The relevance of these advances was overhyped at times, says ex-DeepMinder Edward Grefenstette, who now works in the Facebook AI Research group as a research scientist. \"The field has come a very long way in the past decade, but we are very much aware that we still have far to go in scientific and technological advances to make machines truly intelligent,\" he said. \"One of the biggest challenges is to develop methods that are much more efficient in terms of the data and compute power required to learn to solve a problem well. In the past decade, we\\'ve seen impressive advances made by increasing the scale of data and computation available, but that\\'s not appropriate or scalable for every problem. \"If we want to scale to more complex behaviour, we need to do better with less data, and we need to generalise more. \"\\nNeil Lawrence, who recently left Amazon and joined the University of Cambridge as the first DeepMind-funded professor of machine learning, thinks that the AI industry is very much still in the \"wonder years\". So what will AI look like at the end of the 20s, and how will researchers go about developing it?\\n\"In the next decade, I hope we\\'ll see a more measured, realistic view of AI\\'s capability, rather than the hype we\\'ve seen so far,\" said Catherine Breslin, an ex-Amazon AI researcher. The term \"AI\" became a real buzzword through the last decade, with companies of all shapes and sizes latching onto the term, often for marketing purposes.', 'https://www.bbc.com/news/technology-51064369', 0.384782075881958, 0.500464141368866], ['\"\\nSeveral others started to talk about AGI becoming a reality, including Elon Musk\\'s $1bn AI lab, OpenAI, and academics like MIT professor Max Tegmark. In 2014, Nick Bostrom, a philosopher at Oxford University, went one step further with his book Superintelligence. It predicts a world where machines are firmly in control. But those conversations were taken less and less seriously as the decade went on. At the end of 2019, the smartest computers could still only excel at a \"narrow\" selection of tasks. Gary Marcus, an AI researcher at New York University, said: \"By the end of the decade there was a growing realisation that current techniques can only carry us so far. \"\\nHe thinks the industry needs some \"real innovation\" to go further. \"There is a general feeling of plateau,\" said Verena Rieser, a professor in conversational AI at Edinburgh\\'s Heriot Watt University. One AI researcher who wishes to remain anonymous said we\\'re entering a period where we are especially sceptical about AGI. \"The public perception of AI is increasingly dark: the public believes AI is a sinister technology,\" they said. For its part, DeepMind has a more optimistic view of AI\\'s potential, suggesting that as yet \"we\\'re only just scratching the surface of what might be possible\". \"As the community solves and discovers more, further challenging problems open up,\" explained Koray Kavukcuoglu, its vice president of research.', 'https://www.bbc.com/news/technology-51064369', 0.37062448263168335, 0.49980705976486206], ['Singularity: The robots are coming to steal our jobs\\n- 13 January 2014\\n- From the section Technology\\nIf you worry that the robots are coming, don\\'t, because they are already here. Artificial intelligence agents are already involved in every aspect of our lives - they keep our inboxes free of spam, they help us make our web transactions, they fly our planes and if Google gets its way will also soon drive our cars for us. \"AI\\'s are embedded in the fabric of our everyday lives,\" head of AI at Singularity University, Neil Jacobstein, told the BBC. \"They are used in medicine, in law, in design and throughout automotive industry. \"\\nAnd each day the algorithms that power away, making decisions behind the scenes, are getting smarter. It means that one of the biggest quests of the modern world - the search to make machines as intelligent as humans - could be getting tantalisingly close. Mr Jacobstein predicts that artificial intelligence will overtake human intelligence in the mid-2020s, begging the question - what will a society dominated by machine intelligence look like and what exactly will be our role in it?\\nWe may get to put our feet up more, for a start. Chinese company Hon Hai, the world\\'s largest contract electronics manufacturer, has announced it intends to build a robot-making factory and replace 500,000 workers with robots over the next three years. But not having a job will also mean not having a wage, a radical change for a world used to working for a living. \"AIs will cause significant unemployment but that doesn\\'t equate with poverty,\" said Mr Jacobstein. \"AIs and other exponential technologies are going to generate vast amounts of wealth. \"We have to be willing to change the social contract we have with people about how wealth is distributed. \"\\nHe tends towards the optimistic view of machines and humans working in perfect harmony, side by side. \"The best combination for problem solving is a human and a computer,\" he said.', 'http://www.bbc.co.uk/news/technology-25000756', 0.39598381519317627, 0.4988703727722168], [\"- Video: Exactly what is AI?\\n- Which jobs will AI steal first?\\n- Timeline: 15 key stops on the long road to AI\\n- Explainer: How computers file sports reports\\n- Rory's blog: Why AI matters\\n- Intelligent Machines special report\\nProduced by Nassos Stylianou, Tom Nurse, Gerry Fletcher, Aidan Fewster, Richard Bangay and John Walton.\", 'https://www.bbc.com/news/technology-34066941', 0.3924022912979126, 0.49793893098831177], ['The last decade was a big one for artificial intelligence but researchers in the field believe that the industry is about to enter a new phase. Hype surrounding AI has peaked and troughed over the years as the abilities of the technology get overestimated and then re-evaluated. The peaks are known as AI summers, and the troughs AI winters. The 10s were arguably the hottest AI summer on record with tech giants repeatedly touting AI\\'s abilities. AI pioneer Yoshua Bengio, sometimes called one of the \"godfathers of AI\", told the BBC that AI\\'s abilities were somewhat overhyped in the 10s by certain companies with an interest in doing so. There are signs, however, that the hype might be about to start cooling off. \"I have the sense that AI is transitioning to a new phase,\" said Katja Hofmann, a principal researcher at Microsoft Research in Cambridge. Given the billions being invested in AI and the fact that there are likely to be more breakthroughs ahead, some researchers believe it would be wrong to call this new phase an AI winter. Robot Wars judge Noel Sharkey, who is also a professor of AI and robotics at Sheffield University, told the BBC that he likes the term \"AI autumn\" - and several others agree. \\'Feeling of plateau\\'\\nAt the start of the 2010s, one of the world leaders in AI, DeepMind, often referred to something called AGI, or \"artificial general intelligence\" being developed at some point in the future. Machines that possess AGI - widely thought of as the holy grail in AI - would be just as smart as humans across the board, it promised. DeepMind\\'s lofty AGI ambitions caught the attention of Google, who paid around £400m for the London-based AI lab in 2014 when it had the following mission statement splashed across its website: \"Solve intelligence, and then use that to solve everything else.', 'https://www.bbc.com/news/technology-51064369', 0.2601972818374634, 0.4977376163005829]], 'metadata': None})\n"
     ]
    }
   ],
   "source": [
    "from gradio_client import Client\n",
    "\n",
    "client = Client(\"https://smol-blueprint-rag-hub-datasets.hf.space/\")\n",
    "result = client.predict(\n",
    "    query=\"What is the future of AI?\",\n",
    "    k_retrieved=10,\n",
    "    k_reranked=5,\n",
    "    api_name=\"/rag_pipeline\",\n",
    ")\n",
    "result"
   ]
  },
  {
   "cell_type": "markdown",
   "metadata": {},
   "source": [
    "## Next steps\n",
    "\n",
    "We have seen how to build a RAG pipeline with a SmolLM and some rerankers. Next steps would be to monitor the performance of the RAG pipeline and improve it."
   ]
  }
 ],
 "metadata": {
  "kernelspec": {
   "display_name": ".venv",
   "language": "python",
   "name": "python3"
  },
  "language_info": {
   "codemirror_mode": {
    "name": "ipython",
    "version": 3
   },
   "file_extension": ".py",
   "mimetype": "text/x-python",
   "name": "python",
   "nbconvert_exporter": "python",
   "pygments_lexer": "ipython3",
   "version": "3.12.8"
  }
 },
 "nbformat": 4,
 "nbformat_minor": 2
}
