{
 "cells": [
  {
   "cell_type": "markdown",
   "metadata": {},
   "source": [
    "# Index and retrieve documents for vector search using Sentence Transformers and DuckDB\n",
    "\n",
    "We will be using the [ai-blueprint/fineweb-bbc-news](https://huggingface.co/datasets/ai-blueprint/fineweb-bbc-news) dataset, which is a dataset that contains a sample of the data from fineweb that was sourced from the BBC News website. We assume, these documents function as relevant company documents. At the end we will have deployed a microservice that can be used to perform vector search on our dataset."
   ]
  },
  {
   "cell_type": "code",
   "execution_count": 3,
   "metadata": {},
   "outputs": [
    {
     "data": {
      "text/plain": [
       "Dataset({\n",
       "    features: ['url', 'text'],\n",
       "    num_rows: 352549\n",
       "})"
      ]
     },
     "execution_count": 3,
     "metadata": {},
     "output_type": "execute_result"
    }
   ],
   "source": [
    "from datasets import load_dataset\n",
    "\n",
    "dataset = load_dataset(\"ai-blueprint/fineweb-bbc-news\")\n",
    "dataset[\"train\"]"
   ]
  },
  {
   "cell_type": "markdown",
   "metadata": {},
   "source": [
    "## Chunking the documents\n",
    "\n",
    "To understand how to chunk the documents, we will first need to understand what our `text` column looks like. When working with HTML or Markdown, you can use a library like `BeautifulSoup` to parse and extract elements like paragraphs, headers, images, etc. In our example, the data is already in a structured format, so we can directly consider splitting the text into chunks. \n",
    "\n",
    "When chunking the documents, you can consider different strategies, such as splitting based on tokens, words, sentences or semantic units. There are a lot of libraries out there but a nice lightweight options is [chonkie](https://github.com/chonkie-ai/chonkie), which supports a lot of different [strategies and examples](https://docs.chonkie.ai/chunkers/overview).\n",
    "\n",
    "In our case, we will not be chunking the documents, but we will be using the `text` column to embed the documents."
   ]
  },
  {
   "cell_type": "markdown",
   "metadata": {},
   "source": [
    "## Creating embeddings\n",
    "\n",
    "In order to create a vector search index, we will need to create embeddings for each of our chunks. We will use the [sentence-transformers library](https://huggingface.co/sentence-transformers) to create these embeddings.\n",
    "\n",
    "### Creating text embeddings\n",
    "\n",
    "We will use the [minishlab/potion-base-8M](https://huggingface.co/minishlab/potion-base-8M) model to create the embeddings for our text, which we chose because of the speed at which it can create embeddings. It takes mere minutes to embed more than hundreds of thousands of documents on consumer hardware. In other scenarios the [MTEB leaderboard](https://huggingface.co/spaces/mteb/leaderboard) can help with choosing the best model for your specific task. "
   ]
  },
  {
   "cell_type": "code",
   "execution_count": 5,
   "metadata": {},
   "outputs": [
    {
     "data": {
      "application/vnd.jupyter.widget-view+json": {
       "model_id": "d4e9e8a6bdb94a27a504ef40a82dd20b",
       "version_major": 2,
       "version_minor": 0
      },
      "text/plain": [
       "Map:   0%|          | 0/352549 [00:00<?, ? examples/s]"
      ]
     },
     "metadata": {},
     "output_type": "display_data"
    },
    {
     "name": "stderr",
     "output_type": "stream",
     "text": [
      "/Users/davidberenstein/Documents/programming/smol-project/.venv/lib/python3.12/site-packages/torch/nn/functional.py:2744: UserWarning: The operator 'aten::_embedding_bag' is not currently supported on the MPS backend and will fall back to run on the CPU. This may have performance implications. (Triggered internally at /Users/runner/work/pytorch/pytorch/pytorch/aten/src/ATen/mps/MPSFallback.mm:13.)\n",
      "  ret, _, _, _ = torch.embedding_bag(\n"
     ]
    }
   ],
   "source": [
    "from datasets import Dataset\n",
    "\n",
    "from sentence_transformers import SentenceTransformer\n",
    "from sentence_transformers.models import StaticEmbedding\n",
    "\n",
    "# Initialize a StaticEmbedding module\n",
    "static_embedding = StaticEmbedding.from_model2vec(\"minishlab/potion-base-8M\")\n",
    "model = SentenceTransformer(modules=[static_embedding])\n",
    "\n",
    "def create_text_embeddings(batch):\n",
    "    \"\"\"Create embeddings for a batch of text chunks.\"\"\"\n",
    "    batch[\"embedding\"] = model.encode(batch[\"text\"])\n",
    "    return batch\n",
    "\n",
    "\n",
    "# Create dataset with chunks and generate embeddings\n",
    "embeddings_dataset = dataset.map(create_text_embeddings, batched=True)\n",
    "embeddings_dataset.push_to_hub(\"ai-blueprint/fineweb-bbc-news-text-embeddings\")"
   ]
  },
  {
   "cell_type": "markdown",
   "metadata": {},
   "source": [
    "### Creating multi-modal embeddings\n",
    "\n",
    "We can use use a similar approach to create embeddings for our images and texts. We will use the [sentence-transformers/clip-ViT-B-32](https://huggingface.co/sentence-transformers/clip-ViT-B-32) model to create the embeddings for our images and texts which will then be embedded into a single vector space. You can then use this embedding to perform a multi-modal search."
   ]
  },
  {
   "cell_type": "markdown",
   "metadata": {},
   "source": [
    "## Vector search Hub datasets\n",
    "\n",
    "For the similarity search, we will can simply execute queries on top of the Hugging Face Hub using the [DuckDB integration for vector search](https://huggingface.co/docs/hub/en/datasets-duckdb). This also works with [private datasets](https://huggingface.co/docs/hub/en/datasets-duckdb-auth). Note that we need to use the same model for embedding the query as we used for indexing.\n",
    "\n",
    "### Use the Hub directly\n",
    "\n",
    "This approach works quick enough for datasets up to roughly 100K records."
   ]
  },
  {
   "cell_type": "code",
   "execution_count": 36,
   "metadata": {},
   "outputs": [
    {
     "data": {
      "application/vnd.jupyter.widget-view+json": {
       "model_id": "7cea99edc0104679b0548355ab630904",
       "version_major": 2,
       "version_minor": 0
      },
      "text/plain": [
       "FloatProgress(value=0.0, layout=Layout(width='auto'), style=ProgressStyle(bar_color='black'))"
      ]
     },
     "metadata": {},
     "output_type": "display_data"
    },
    {
     "data": {
      "text/html": [
       "<div>\n",
       "<style scoped>\n",
       "    .dataframe tbody tr th:only-of-type {\n",
       "        vertical-align: middle;\n",
       "    }\n",
       "\n",
       "    .dataframe tbody tr th {\n",
       "        vertical-align: top;\n",
       "    }\n",
       "\n",
       "    .dataframe thead th {\n",
       "        text-align: right;\n",
       "    }\n",
       "</style>\n",
       "<table border=\"1\" class=\"dataframe\">\n",
       "  <thead>\n",
       "    <tr style=\"text-align: right;\">\n",
       "      <th></th>\n",
       "      <th>url</th>\n",
       "      <th>chunk</th>\n",
       "      <th>distance</th>\n",
       "    </tr>\n",
       "  </thead>\n",
       "  <tbody>\n",
       "    <tr>\n",
       "      <th>0</th>\n",
       "      <td>http://news.bbc.co.uk/2/hi/europe/3602209.stm</td>\n",
       "      <td>\"We have to prepare for a different future. \".</td>\n",
       "      <td>0.444404</td>\n",
       "    </tr>\n",
       "    <tr>\n",
       "      <th>1</th>\n",
       "      <td>https://www.bbc.com/news/technology-52415775</td>\n",
       "      <td>UK spies will need to use artificial intellige...</td>\n",
       "      <td>0.446492</td>\n",
       "    </tr>\n",
       "    <tr>\n",
       "      <th>2</th>\n",
       "      <td>http://www.bbc.com/news/technology-36472140</td>\n",
       "      <td>Google developing kill switch for AI\\n- 8 June...</td>\n",
       "      <td>0.471058</td>\n",
       "    </tr>\n",
       "    <tr>\n",
       "      <th>3</th>\n",
       "      <td>https://www.bbc.co.uk/news/business-48139212</td>\n",
       "      <td>Artificial intelligence (AI) is one of the mos...</td>\n",
       "      <td>0.471088</td>\n",
       "    </tr>\n",
       "    <tr>\n",
       "      <th>4</th>\n",
       "      <td>https://www.bbc.com/news/technology-51064369</td>\n",
       "      <td>The last decade was a big one for artificial i...</td>\n",
       "      <td>0.472657</td>\n",
       "    </tr>\n",
       "  </tbody>\n",
       "</table>\n",
       "</div>"
      ],
      "text/plain": [
       "                                             url  \\\n",
       "0  http://news.bbc.co.uk/2/hi/europe/3602209.stm   \n",
       "1   https://www.bbc.com/news/technology-52415775   \n",
       "2    http://www.bbc.com/news/technology-36472140   \n",
       "3   https://www.bbc.co.uk/news/business-48139212   \n",
       "4   https://www.bbc.com/news/technology-51064369   \n",
       "\n",
       "                                               chunk  distance  \n",
       "0     \"We have to prepare for a different future. \".  0.444404  \n",
       "1  UK spies will need to use artificial intellige...  0.446492  \n",
       "2  Google developing kill switch for AI\\n- 8 June...  0.471058  \n",
       "3  Artificial intelligence (AI) is one of the mos...  0.471088  \n",
       "4  The last decade was a big one for artificial i...  0.472657  "
      ]
     },
     "execution_count": 36,
     "metadata": {},
     "output_type": "execute_result"
    }
   ],
   "source": [
    "from sentence_transformers import SentenceTransformer\n",
    "from sentence_transformers.models import StaticEmbedding\n",
    "import duckdb\n",
    "\n",
    "\n",
    "# Initialize a StaticEmbedding module\n",
    "static_embedding = StaticEmbedding.from_model2vec(\"minishlab/potion-base-8M\")\n",
    "model = SentenceTransformer(modules=[static_embedding])\n",
    "\n",
    "\n",
    "def similarity_search_without_duckdb_index(\n",
    "    query: str,\n",
    "    k: int = 5,\n",
    "    dataset_name: str = \"smol-blueprint/fineweb-bbc-news-text-embeddings\",\n",
    "    embedding_column: str = \"embedding\",\n",
    "):\n",
    "    # Use same model as used for indexing\n",
    "    query_vector = model.encode(query)\n",
    "    embedding_dim = model.get_sentence_embedding_dimension()\n",
    "\n",
    "    sql = f\"\"\"\n",
    "        SELECT \n",
    "            url,\n",
    "            chunk,\n",
    "            array_cosine_distance(\n",
    "                {embedding_column}::float[{embedding_dim}], \n",
    "                {query_vector.tolist()}::float[{embedding_dim}]\n",
    "            ) as distance\n",
    "        FROM 'hf://datasets/{dataset_name}/**/*.parquet'\n",
    "        ORDER BY distance\n",
    "        LIMIT {k}\n",
    "    \"\"\"\n",
    "\n",
    "    return duckdb.sql(sql).to_df()\n",
    "\n",
    "\n",
    "similarity_search_without_duckdb_index(\n",
    "    \"How should companies prepare for AI?\",\n",
    ")"
   ]
  },
  {
   "cell_type": "markdown",
   "metadata": {},
   "source": [
    "Because of the dataset size, this approach is not very efficient, but we can improve it by using creating an approximate nearest neighbor index."
   ]
  },
  {
   "cell_type": "markdown",
   "metadata": {},
   "source": [
    "### Using a DuckDB vector search index\n",
    "\n",
    "This approach works for huge datasets and relies on the [DuckDB vector search extension](https://duckdb.org/docs/extensions/vss.html). We will copy the dataset from the Hub to a local DuckDB database and create a vector search index. Creating the index takes a while, but afterwards the queries will run much faster."
   ]
  },
  {
   "cell_type": "code",
   "execution_count": 19,
   "metadata": {},
   "outputs": [
    {
     "data": {
      "application/vnd.jupyter.widget-view+json": {
       "model_id": "51583910c08345279f8aa58903b109da",
       "version_major": 2,
       "version_minor": 0
      },
      "text/plain": [
       "FloatProgress(value=0.0, layout=Layout(width='auto'), style=ProgressStyle(bar_color='black'))"
      ]
     },
     "metadata": {},
     "output_type": "display_data"
    },
    {
     "data": {
      "application/vnd.jupyter.widget-view+json": {
       "model_id": "597134ea61724be183112240239578d0",
       "version_major": 2,
       "version_minor": 0
      },
      "text/plain": [
       "FloatProgress(value=0.0, layout=Layout(width='auto'), style=ProgressStyle(bar_color='black'))"
      ]
     },
     "metadata": {},
     "output_type": "display_data"
    }
   ],
   "source": [
    "from sentence_transformers import SentenceTransformer\n",
    "from sentence_transformers.models import StaticEmbedding\n",
    "import duckdb\n",
    "\n",
    "# Initialize a StaticEmbedding module\n",
    "static_embedding = StaticEmbedding.from_model2vec(\"minishlab/potion-base-8M\")\n",
    "model = SentenceTransformer(modules=[static_embedding])\n",
    "\n",
    "dataset_name = \"smol-blueprint/fineweb-bbc-news-text-embeddings\"\n",
    "embedding_column = \"embedding\"\n",
    "table_name = \"fineweb\"\n",
    "\n",
    "duckdb.sql(query=f\"\"\"\n",
    "    INSTALL vss;\n",
    "    LOAD vss;\n",
    "    CREATE TABLE {table_name} AS \n",
    "    SELECT *, {embedding_column}::float[{model.get_sentence_embedding_dimension()}] as embedding_float \n",
    "    FROM 'hf://datasets/{dataset_name}/**/*.parquet';\n",
    "    CREATE INDEX my_hnsw_index ON {table_name} USING HNSW (embedding_float) WITH (metric = 'cosine');\n",
    "\"\"\")"
   ]
  },
  {
   "cell_type": "markdown",
   "metadata": {},
   "source": [
    "After this, we can simply execute blazingfast queries on the local DuckDB database, which is much faster than the previous approach and produces similar results."
   ]
  },
  {
   "cell_type": "code",
   "execution_count": 20,
   "metadata": {},
   "outputs": [
    {
     "data": {
      "text/html": [
       "<div>\n",
       "<style scoped>\n",
       "    .dataframe tbody tr th:only-of-type {\n",
       "        vertical-align: middle;\n",
       "    }\n",
       "\n",
       "    .dataframe tbody tr th {\n",
       "        vertical-align: top;\n",
       "    }\n",
       "\n",
       "    .dataframe thead th {\n",
       "        text-align: right;\n",
       "    }\n",
       "</style>\n",
       "<table border=\"1\" class=\"dataframe\">\n",
       "  <thead>\n",
       "    <tr style=\"text-align: right;\">\n",
       "      <th></th>\n",
       "      <th>chunk</th>\n",
       "      <th>url</th>\n",
       "      <th>distance</th>\n",
       "    </tr>\n",
       "  </thead>\n",
       "  <tbody>\n",
       "    <tr>\n",
       "      <th>0</th>\n",
       "      <td>UK spies will need to use artificial intellige...</td>\n",
       "      <td>https://www.bbc.com/news/technology-52415775</td>\n",
       "      <td>0.446492</td>\n",
       "    </tr>\n",
       "    <tr>\n",
       "      <th>1</th>\n",
       "      <td>Google developing kill switch for AI\\n- 8 June...</td>\n",
       "      <td>http://www.bbc.com/news/technology-36472140</td>\n",
       "      <td>0.471058</td>\n",
       "    </tr>\n",
       "    <tr>\n",
       "      <th>2</th>\n",
       "      <td>Artificial intelligence (AI) is one of the mos...</td>\n",
       "      <td>https://www.bbc.co.uk/news/business-48139212</td>\n",
       "      <td>0.471088</td>\n",
       "    </tr>\n",
       "    <tr>\n",
       "      <th>3</th>\n",
       "      <td>The last decade was a big one for artificial i...</td>\n",
       "      <td>https://www.bbc.com/news/technology-51064369</td>\n",
       "      <td>0.472657</td>\n",
       "    </tr>\n",
       "    <tr>\n",
       "      <th>4</th>\n",
       "      <td>Singularity: The robots are coming to steal ou...</td>\n",
       "      <td>http://www.bbc.co.uk/news/technology-25000756</td>\n",
       "      <td>0.501493</td>\n",
       "    </tr>\n",
       "  </tbody>\n",
       "</table>\n",
       "</div>"
      ],
      "text/plain": [
       "                                               chunk  \\\n",
       "0  UK spies will need to use artificial intellige...   \n",
       "1  Google developing kill switch for AI\\n- 8 June...   \n",
       "2  Artificial intelligence (AI) is one of the mos...   \n",
       "3  The last decade was a big one for artificial i...   \n",
       "4  Singularity: The robots are coming to steal ou...   \n",
       "\n",
       "                                             url  distance  \n",
       "0   https://www.bbc.com/news/technology-52415775  0.446492  \n",
       "1    http://www.bbc.com/news/technology-36472140  0.471058  \n",
       "2   https://www.bbc.co.uk/news/business-48139212  0.471088  \n",
       "3   https://www.bbc.com/news/technology-51064369  0.472657  \n",
       "4  http://www.bbc.co.uk/news/technology-25000756  0.501493  "
      ]
     },
     "execution_count": 20,
     "metadata": {},
     "output_type": "execute_result"
    }
   ],
   "source": [
    "def similarity_search_with_duckdb_index(query: str, k: int = 5):\n",
    "    embedding = model.encode(query).tolist()\n",
    "    return duckdb.sql(\n",
    "        query=f\"\"\"\n",
    "        SELECT chunk, url, array_cosine_distance({embedding_column}_float, {embedding}::FLOAT[{model.get_sentence_embedding_dimension()}]) as distance \n",
    "        FROM {table_name}\n",
    "        ORDER BY distance \n",
    "        LIMIT {k};\n",
    "    \"\"\"\n",
    "    ).to_df()\n",
    "\n",
    "similarity_search_with_duckdb_index(\"How should companies prepare for AI?\", k=5)"
   ]
  },
  {
   "cell_type": "markdown",
   "metadata": {},
   "source": [
    "## Using vicinity as vector search backend\n",
    "\n",
    "Lastly, we can also take a more Pythonic approach and use the [vicinity library](https://github.com/MinishLab/vicinity) to create a vector search index. We simply load the dataset from the Hub and create a vector search index by passing our vectors and items to the `Vicinity` class."
   ]
  },
  {
   "cell_type": "code",
   "execution_count": 1,
   "metadata": {},
   "outputs": [],
   "source": [
    "import numpy as np\n",
    "from vicinity import Vicinity, Backend, Metric\n",
    "from datasets import load_dataset\n",
    "from sentence_transformers import SentenceTransformer\n",
    "from sentence_transformers.models import StaticEmbedding\n",
    "\n",
    "# Initialize a StaticEmbedding module\n",
    "static_embedding = StaticEmbedding.from_model2vec(\"minishlab/potion-base-8M\")\n",
    "model = SentenceTransformer(modules=[static_embedding])\n",
    "\n",
    "embeddings_dataset = load_dataset(\n",
    "    \"smol-blueprint/fineweb-bbc-news-text-embeddings\", split=\"train\"\n",
    ")\n",
    "\n",
    "vicinity = Vicinity.from_vectors_and_items(\n",
    "    vectors=np.array(embeddings_dataset[\"embedding\"]),\n",
    "    items=embeddings_dataset[\"chunk\"],\n",
    "    backend_type=Backend.HNSW,\n",
    "    metric=Metric.COSINE,\n",
    ")"
   ]
  },
  {
   "cell_type": "markdown",
   "metadata": {},
   "source": [
    "After this, we can execute blazingfast queries on the local vicinity vector search index. Note that the retrieved results are similar to the ones we got from the other methods."
   ]
  },
  {
   "cell_type": "code",
   "execution_count": 3,
   "metadata": {},
   "outputs": [
    {
     "data": {
      "text/plain": [
       "[[('UK spies will need to use artificial intelligence (AI) to counter a range of threats, an intelligence report says. Adversaries are likely to use the technology for attacks in cyberspace and on the political system, and AI will be needed to detect and stop them. But AI is unlikely to predict who might be about to be involved in serious crimes, such as terrorism - and will not replace human judgement, it says. The report is based on unprecedented access to British intelligence. The Royal United Services Institute (Rusi) think tank also argues that the use of AI could give rise to new privacy and human-rights considerations, which will require new guidance. The UK\\'s adversaries \"will undoubtedly seek to use AI to attack the UK\", Rusi says in the report - and this may include not just states, but also criminals. Fire with fire\\nThe future threats could include using AI to develop deep fakes - where a computer can learn to generate convincing faked video of a real person - in order to manipulate public opinion and elections. It might also be used to mutate malware for cyber-attacks, making it harder for normal systems to detect - or even to repurpose and control drones to carry out attacks. In these cases, AI will be needed to counter AI, the report argues. \"Adoption of AI is not just important to help intelligence agencies manage the technical challenge of information overload. It is highly likely that malicious actors will use AI to attack the UK in numerous ways, and the intelligence community will need to develop new AI-based defence measures,\" argues Alexander Babuta, one of the authors.',\n",
       "   np.float32(0.44649202)),\n",
       "  ('Google developing kill switch for AI\\n- 8 June 2016\\n- From the section Technology\\nScientists from Google\\'s artificial intelligence division, DeepMind, and Oxford University are developing a \"kill switch\" for AI. In an academic paper, they outlined how future intelligent machines could be coded to prevent them from learning to over-ride human input. It is something that has worried experts, with Tesla founder Elon Musk particularly vocal in his concerns. Increasingly, AI is being integrated into many aspects of daily life. Scientists Laurent Orseau, from Google DeepMind, and Stuart Armstrong, from the Future of Humanity Institute at the University of Oxford, set out a framework that would allow humans to always remain in charge. Their research revolves around a method to ensure that AIs, which learn via reinforcement, can be repeatedly and safely interrupted by human overseers without learning how to avoid or manipulate these interventions. They say future AIs are unlikely to \"behave optimally all the time\". \"Now and then it may be necessary for a human operator to press the big red button to prevent the agent from continuing a harmful sequence of actions,\" they wrote. But, sometimes, these \"agents\" learn to over-ride this, they say, giving an example of a 2013 AI taught to play Tetris that learnt to pause a game forever to avoid losing.',\n",
       "   np.float32(0.47105843)),\n",
       "  (\"Artificial intelligence (AI) is one of the most exciting technologies today, and Africa doesn't want to be left behind. Today a majority of the AI industry is in North America, Europe and Asia. Efforts are being made to train computer scientists from African nations, as AI can be used to solve many complex challenges. In a bid to improve diversity, tech giants are providing investment to develop new talent. In April, Google opened its first African AI research centre in Ghana. The AI laboratory, based in Accra, will be used to develop solutions to help improve healthcare, agriculture and education. Google's head of AI Accra Moustapha Cisse is from Senegal. After completing an undergraduate degree in maths and physics in Senegal, he taught himself AI and then went to study in Paris, before joining Facebook.\",\n",
       "   np.float32(0.47108877)),\n",
       "  ('The last decade was a big one for artificial intelligence but researchers in the field believe that the industry is about to enter a new phase. Hype surrounding AI has peaked and troughed over the years as the abilities of the technology get overestimated and then re-evaluated. The peaks are known as AI summers, and the troughs AI winters. The 10s were arguably the hottest AI summer on record with tech giants repeatedly touting AI\\'s abilities. AI pioneer Yoshua Bengio, sometimes called one of the \"godfathers of AI\", told the BBC that AI\\'s abilities were somewhat overhyped in the 10s by certain companies with an interest in doing so. There are signs, however, that the hype might be about to start cooling off. \"I have the sense that AI is transitioning to a new phase,\" said Katja Hofmann, a principal researcher at Microsoft Research in Cambridge. Given the billions being invested in AI and the fact that there are likely to be more breakthroughs ahead, some researchers believe it would be wrong to call this new phase an AI winter. Robot Wars judge Noel Sharkey, who is also a professor of AI and robotics at Sheffield University, told the BBC that he likes the term \"AI autumn\" - and several others agree. \\'Feeling of plateau\\'\\nAt the start of the 2010s, one of the world leaders in AI, DeepMind, often referred to something called AGI, or \"artificial general intelligence\" being developed at some point in the future. Machines that possess AGI - widely thought of as the holy grail in AI - would be just as smart as humans across the board, it promised. DeepMind\\'s lofty AGI ambitions caught the attention of Google, who paid around £400m for the London-based AI lab in 2014 when it had the following mission statement splashed across its website: \"Solve intelligence, and then use that to solve everything else.',\n",
       "   np.float32(0.47265667)),\n",
       "  ('Singularity: The robots are coming to steal our jobs\\n- 13 January 2014\\n- From the section Technology\\nIf you worry that the robots are coming, don\\'t, because they are already here. Artificial intelligence agents are already involved in every aspect of our lives - they keep our inboxes free of spam, they help us make our web transactions, they fly our planes and if Google gets its way will also soon drive our cars for us. \"AI\\'s are embedded in the fabric of our everyday lives,\" head of AI at Singularity University, Neil Jacobstein, told the BBC. \"They are used in medicine, in law, in design and throughout automotive industry. \"\\nAnd each day the algorithms that power away, making decisions behind the scenes, are getting smarter. It means that one of the biggest quests of the modern world - the search to make machines as intelligent as humans - could be getting tantalisingly close. Mr Jacobstein predicts that artificial intelligence will overtake human intelligence in the mid-2020s, begging the question - what will a society dominated by machine intelligence look like and what exactly will be our role in it?\\nWe may get to put our feet up more, for a start. Chinese company Hon Hai, the world\\'s largest contract electronics manufacturer, has announced it intends to build a robot-making factory and replace 500,000 workers with robots over the next three years. But not having a job will also mean not having a wage, a radical change for a world used to working for a living. \"AIs will cause significant unemployment but that doesn\\'t equate with poverty,\" said Mr Jacobstein. \"AIs and other exponential technologies are going to generate vast amounts of wealth. \"We have to be willing to change the social contract we have with people about how wealth is distributed. \"\\nHe tends towards the optimistic view of machines and humans working in perfect harmony, side by side. \"The best combination for problem solving is a human and a computer,\" he said.',\n",
       "   np.float32(0.5014925))]]"
      ]
     },
     "execution_count": 3,
     "metadata": {},
     "output_type": "execute_result"
    }
   ],
   "source": [
    "def similarity_search_with_vicinity(query: str, k: int = 10):\n",
    "    return vicinity.query(vectors=model.encode(query), k=k)\n",
    "\n",
    "\n",
    "similarity_search_with_vicinity(query=\"How should companies prepare for AI?\", k=5)"
   ]
  },
  {
   "cell_type": "markdown",
   "metadata": {},
   "source": [
    "## Creating a web app and microservice for retrieval\n",
    "\n",
    "We will be using [Gradio](https://github.com/gradio-app/gradio) as web application tool to create a demo interface for our vector search index. We can develop this locally and then easily deploy it to Hugging Face Spaces. Lastly, we can use the Gradio client as SDK to directly interact with our vector search index.\n",
    "\n",
    "### Creating the web app"
   ]
  },
  {
   "cell_type": "code",
   "execution_count": 21,
   "metadata": {},
   "outputs": [
    {
     "name": "stdout",
     "output_type": "stream",
     "text": [
      "* Running on local URL:  http://127.0.0.1:7861\n",
      "\n",
      "To create a public link, set `share=True` in `launch()`.\n"
     ]
    },
    {
     "data": {
      "text/html": [
       "<div><iframe src=\"http://127.0.0.1:7861/\" width=\"100%\" height=\"500\" allow=\"autoplay; camera; microphone; clipboard-read; clipboard-write;\" frameborder=\"0\" allowfullscreen></iframe></div>"
      ],
      "text/plain": [
       "<IPython.core.display.HTML object>"
      ]
     },
     "metadata": {},
     "output_type": "display_data"
    },
    {
     "data": {
      "text/plain": []
     },
     "execution_count": 21,
     "metadata": {},
     "output_type": "execute_result"
    }
   ],
   "source": [
    "import gradio as gr\n",
    "\n",
    "\n",
    "def search(query, k):\n",
    "    return similarity_search_with_duckdb_index(query, k)\n",
    "\n",
    "\n",
    "with gr.Blocks() as demo:\n",
    "    gr.Markdown(\"\"\"# RAG - retrieve\n",
    "                \n",
    "                Part of [smol blueprint](https://github.com/davidberenstein1957/smol-blueprint) - a smol blueprint for AI development, focusing on practical examples of RAG, information extraction, analysis and fine-tuning in the age of LLMs. \"\"\")\n",
    "    query = gr.Textbox(label=\"Query\")\n",
    "    k = gr.Slider(1, 10, value=5, label=\"Number of results\")\n",
    "    btn = gr.Button(\"Search\")\n",
    "    results = gr.Dataframe(headers=[\"title\", \"url\", \"content\", \"distance\"])\n",
    "    btn.click(fn=search, inputs=[query, k], outputs=[results])\n",
    "\n",
    "demo.launch(share=False) # set to True to share as a public website directly"
   ]
  },
  {
   "cell_type": "markdown",
   "metadata": {},
   "source": [
    "<iframe\n",
    "\tsrc=\"https://smol-blueprint-rag-retrieval.hf.space\"\n",
    "\tframeborder=\"0\"\n",
    "\twidth=\"850\"\n",
    "\theight=\"450\"\n",
    "></iframe>"
   ]
  },
  {
   "cell_type": "markdown",
   "metadata": {},
   "source": [
    "## Deploying the web app on Hugging Face \n",
    "\n",
    "We can now [deploy our Gradio application to Hugging Face Spaces](https://huggingface.co/new-space?sdk=gradio&name=rag-retrieve).\n",
    "\n",
    "-  Click on the \"Create Space\" button.\n",
    "-  Copy the code from the Gradio interface and paste it into an `app.py` file. Don't forget to copy the `similarity_search_*` function, along with the code to create the index.\n",
    "-  Create a `requirements.txt` file with `duckdb`, `sentence-transformers` and `model2vec`.\n",
    "\n",
    "We wait a couple of minutes for the application to deploy et voila, we have [a public vector search interface](https://huggingface.co/spaces/smol-blueprint/rag-retrieve)!"
   ]
  },
  {
   "cell_type": "markdown",
   "metadata": {},
   "source": [
    "## Using the web app as a microservice\n",
    "\n",
    "We can now use the [Gradio client as SDK](https://www.gradio.app/guides/getting-started-with-the-python-client) to directly interact with our vector search index. Each Gradio app has a API documentation that describes the available endpoints and their parameters, which you can access from the button at the bottom of the Gradio app's space page."
   ]
  },
  {
   "cell_type": "code",
   "execution_count": 23,
   "metadata": {},
   "outputs": [
    {
     "data": {
      "text/html": [
       "<div>\n",
       "<style scoped>\n",
       "    .dataframe tbody tr th:only-of-type {\n",
       "        vertical-align: middle;\n",
       "    }\n",
       "\n",
       "    .dataframe tbody tr th {\n",
       "        vertical-align: top;\n",
       "    }\n",
       "\n",
       "    .dataframe thead th {\n",
       "        text-align: right;\n",
       "    }\n",
       "</style>\n",
       "<table border=\"1\" class=\"dataframe\">\n",
       "  <thead>\n",
       "    <tr style=\"text-align: right;\">\n",
       "      <th></th>\n",
       "      <th>chunk</th>\n",
       "      <th>url</th>\n",
       "      <th>distance</th>\n",
       "    </tr>\n",
       "  </thead>\n",
       "  <tbody>\n",
       "    <tr>\n",
       "      <th>0</th>\n",
       "      <td>UK spies will need to use artificial intellige...</td>\n",
       "      <td>https://www.bbc.com/news/technology-52415775</td>\n",
       "      <td>0.446492</td>\n",
       "    </tr>\n",
       "    <tr>\n",
       "      <th>1</th>\n",
       "      <td>Google developing kill switch for AI\\n- 8 June...</td>\n",
       "      <td>http://www.bbc.com/news/technology-36472140</td>\n",
       "      <td>0.471058</td>\n",
       "    </tr>\n",
       "    <tr>\n",
       "      <th>2</th>\n",
       "      <td>Artificial intelligence (AI) is one of the mos...</td>\n",
       "      <td>https://www.bbc.co.uk/news/business-48139212</td>\n",
       "      <td>0.471088</td>\n",
       "    </tr>\n",
       "    <tr>\n",
       "      <th>3</th>\n",
       "      <td>The last decade was a big one for artificial i...</td>\n",
       "      <td>https://www.bbc.com/news/technology-51064369</td>\n",
       "      <td>0.472657</td>\n",
       "    </tr>\n",
       "    <tr>\n",
       "      <th>4</th>\n",
       "      <td>Singularity: The robots are coming to steal ou...</td>\n",
       "      <td>http://www.bbc.co.uk/news/technology-25000756</td>\n",
       "      <td>0.501493</td>\n",
       "    </tr>\n",
       "  </tbody>\n",
       "</table>\n",
       "</div>"
      ],
      "text/plain": [
       "                                               chunk  \\\n",
       "0  UK spies will need to use artificial intellige...   \n",
       "1  Google developing kill switch for AI\\n- 8 June...   \n",
       "2  Artificial intelligence (AI) is one of the mos...   \n",
       "3  The last decade was a big one for artificial i...   \n",
       "4  Singularity: The robots are coming to steal ou...   \n",
       "\n",
       "                                             url  distance  \n",
       "0   https://www.bbc.com/news/technology-52415775  0.446492  \n",
       "1    http://www.bbc.com/news/technology-36472140  0.471058  \n",
       "2   https://www.bbc.co.uk/news/business-48139212  0.471088  \n",
       "3   https://www.bbc.com/news/technology-51064369  0.472657  \n",
       "4  http://www.bbc.co.uk/news/technology-25000756  0.501493  "
      ]
     },
     "execution_count": 23,
     "metadata": {},
     "output_type": "execute_result"
    }
   ],
   "source": [
    "from gradio_client import Client\n",
    "import pandas as pd\n",
    "\n",
    "client = Client(\"https://smol-blueprint-rag-retrieve.hf.space/\")\n",
    "results = client.predict(\n",
    "    api_name=\"/similarity_search\", query=\"How should companies prepare for AI?\", k=5\n",
    ")\n",
    "pd.DataFrame(data=results[\"data\"], columns=results[\"headers\"])"
   ]
  },
  {
   "cell_type": "markdown",
   "metadata": {},
   "source": [
    "## Next steps\n",
    "\n",
    "We have shown a basic approach on how to index and perform vector search on the Hugging Face Hub. Next, we will build a reranker that uses the output of the vector search to improve the quality of the retrieved documents by reranking them based on their relevance to the query.\n",
    "\n",
    "[Augmenting retrieval results by reranking using Sentence Transformers](./augment.ipynb)\n"
   ]
  }
 ],
 "metadata": {
  "kernelspec": {
   "display_name": ".venv",
   "language": "python",
   "name": "python3"
  },
  "language_info": {
   "codemirror_mode": {
    "name": "ipython",
    "version": 3
   },
   "file_extension": ".py",
   "mimetype": "text/x-python",
   "name": "python",
   "nbconvert_exporter": "python",
   "pygments_lexer": "ipython3",
   "version": "3.12.8"
  }
 },
 "nbformat": 4,
 "nbformat_minor": 2
}
