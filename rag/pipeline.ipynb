{
 "cells": [
  {
   "cell_type": "markdown",
   "metadata": {},
   "source": [
    "# Combine retrieve, augment, and generate APIs in a single pipeline\n",
    "\n",
    "We have [deployed microservices on the Hub](https://huggingface.co/collections/ai-blueprint/retrieval-augemented-generation-rag-6790c9f597b02c043cfbf7af) for [retrieving](retrieve.ipynb), [augmenting](augment.ipynb) and [generating](generate.ipynb). Currently, we will show how to tie them all together in a complete RAG pipeline, which we will deploy as a microservice of its own at the end of this notebook.\n",
    "\n",
    "## Dependencies and imports\n",
    "\n",
    "Let's install the necessary dependencies."
   ]
  },
  {
   "cell_type": "code",
   "execution_count": null,
   "metadata": {},
   "outputs": [],
   "source": [
    "!pip install gradio-client pandas"
   ]
  },
  {
   "cell_type": "markdown",
   "metadata": {},
   "source": [
    "Next, let's import the necessary libraries."
   ]
  },
  {
   "cell_type": "code",
   "execution_count": 3,
   "metadata": {},
   "outputs": [],
   "source": [
    "from gradio_client import Client\n",
    "import pandas as pd"
   ]
  },
  {
   "cell_type": "markdown",
   "metadata": {},
   "source": [
    "## Retrieve documents\n",
    "\n",
    "Let's start by retrieving documents that are relevant to answering the query. We use the Hugging Face Hub as vector search backend with the [ai-blueprint/fineweb-bbc-news-embeddings](https://huggingface.co/datasets/ai-blueprint/fineweb-bbc-news-embeddings) dataset and can call it through a REST API with the Gradio Python Client. Our API is available at https://ai-blueprint-rag-retrieve.hf.space/?view=api. See the [retrieve notebook](./retrieve.ipynb) for more details."
   ]
  },
  {
   "cell_type": "code",
   "execution_count": 4,
   "metadata": {},
   "outputs": [
    {
     "name": "stdout",
     "output_type": "stream",
     "text": [
      "Loaded as API: https://ai-blueprint-rag-retrieve.hf.space/ ✔\n"
     ]
    },
    {
     "data": {
      "text/html": [
       "<div>\n",
       "<style scoped>\n",
       "    .dataframe tbody tr th:only-of-type {\n",
       "        vertical-align: middle;\n",
       "    }\n",
       "\n",
       "    .dataframe tbody tr th {\n",
       "        vertical-align: top;\n",
       "    }\n",
       "\n",
       "    .dataframe thead th {\n",
       "        text-align: right;\n",
       "    }\n",
       "</style>\n",
       "<table border=\"1\" class=\"dataframe\">\n",
       "  <thead>\n",
       "    <tr style=\"text-align: right;\">\n",
       "      <th></th>\n",
       "      <th>url</th>\n",
       "      <th>text</th>\n",
       "      <th>distance</th>\n",
       "    </tr>\n",
       "  </thead>\n",
       "  <tbody>\n",
       "    <tr>\n",
       "      <th>0</th>\n",
       "      <td>https://www.bbc.com/news/technology-51064369</td>\n",
       "      <td>The last decade was a big one for artificial i...</td>\n",
       "      <td>0.281200</td>\n",
       "    </tr>\n",
       "    <tr>\n",
       "      <th>1</th>\n",
       "      <td>http://www.bbc.co.uk/news/technology-25000756</td>\n",
       "      <td>Singularity: The robots are coming to steal ou...</td>\n",
       "      <td>0.365842</td>\n",
       "    </tr>\n",
       "    <tr>\n",
       "      <th>2</th>\n",
       "      <td>http://www.bbc.com/news/technology-25000756</td>\n",
       "      <td>Singularity: The robots are coming to steal ou...</td>\n",
       "      <td>0.365842</td>\n",
       "    </tr>\n",
       "    <tr>\n",
       "      <th>3</th>\n",
       "      <td>https://www.bbc.co.uk/news/technology-37494863</td>\n",
       "      <td>Google, Facebook, Amazon join forces on future...</td>\n",
       "      <td>0.380820</td>\n",
       "    </tr>\n",
       "    <tr>\n",
       "      <th>4</th>\n",
       "      <td>https://www.bbc.co.uk/news/technology-37494863</td>\n",
       "      <td>Google, Facebook, Amazon join forces on future...</td>\n",
       "      <td>0.380820</td>\n",
       "    </tr>\n",
       "  </tbody>\n",
       "</table>\n",
       "</div>"
      ],
      "text/plain": [
       "                                              url  \\\n",
       "0    https://www.bbc.com/news/technology-51064369   \n",
       "1   http://www.bbc.co.uk/news/technology-25000756   \n",
       "2     http://www.bbc.com/news/technology-25000756   \n",
       "3  https://www.bbc.co.uk/news/technology-37494863   \n",
       "4  https://www.bbc.co.uk/news/technology-37494863   \n",
       "\n",
       "                                                text  distance  \n",
       "0  The last decade was a big one for artificial i...  0.281200  \n",
       "1  Singularity: The robots are coming to steal ou...  0.365842  \n",
       "2  Singularity: The robots are coming to steal ou...  0.365842  \n",
       "3  Google, Facebook, Amazon join forces on future...  0.380820  \n",
       "4  Google, Facebook, Amazon join forces on future...  0.380820  "
      ]
     },
     "execution_count": 4,
     "metadata": {},
     "output_type": "execute_result"
    }
   ],
   "source": [
    "gradio_client_retrieve = Client(\"https://ai-blueprint-rag-retrieve.hf.space/\")\n",
    "\n",
    "def retrieve(query: str, k: int = 5):\n",
    "    results = gradio_client_retrieve.predict(api_name=\"/similarity_search\", query=query, k=k)\n",
    "    return pd.DataFrame(data=results[\"data\"], columns=results[\"headers\"])\n",
    "\n",
    "retrieve(\"What is the future of AI?\", k=5)"
   ]
  },
  {
   "cell_type": "markdown",
   "metadata": {},
   "source": [
    "## Reranking retrieved documents\n",
    "\n",
    "Whenever we retrieve documents from the vector search backend, we can use a reranker to improve the quality of the retrieved documents before passing them to the LLM.\n",
    "We will first retrieve documents pass them to a reranker and return the reranked documents sorted by relevance. The reranker API is available at https://ai-blueprint-rag-augment.hf.space/?view=api. See the [rerank notebook](./rerank.ipynb) for more details. Note that we will re-use the retrieve methods from the previous section."
   ]
  },
  {
   "cell_type": "code",
   "execution_count": 12,
   "metadata": {},
   "outputs": [
    {
     "name": "stdout",
     "output_type": "stream",
     "text": [
      "Loaded as API: https://ai-blueprint-rag-augment.hf.space/ ✔\n"
     ]
    },
    {
     "data": {
      "text/html": [
       "<div>\n",
       "<style scoped>\n",
       "    .dataframe tbody tr th:only-of-type {\n",
       "        vertical-align: middle;\n",
       "    }\n",
       "\n",
       "    .dataframe tbody tr th {\n",
       "        vertical-align: top;\n",
       "    }\n",
       "\n",
       "    .dataframe thead th {\n",
       "        text-align: right;\n",
       "    }\n",
       "</style>\n",
       "<table border=\"1\" class=\"dataframe\">\n",
       "  <thead>\n",
       "    <tr style=\"text-align: right;\">\n",
       "      <th></th>\n",
       "      <th>url</th>\n",
       "      <th>text</th>\n",
       "      <th>distance</th>\n",
       "      <th>rank</th>\n",
       "    </tr>\n",
       "  </thead>\n",
       "  <tbody>\n",
       "    <tr>\n",
       "      <th>0</th>\n",
       "      <td>https://www.bbc.com/news/technology-51064369</td>\n",
       "      <td>The last decade was a big one for artificial i...</td>\n",
       "      <td>0.281200</td>\n",
       "      <td>0.505991</td>\n",
       "    </tr>\n",
       "    <tr>\n",
       "      <th>1</th>\n",
       "      <td>https://www.bbc.com/news/technology-52415775</td>\n",
       "      <td>UK spies will need to use artificial intellige...</td>\n",
       "      <td>0.414651</td>\n",
       "      <td>0.505261</td>\n",
       "    </tr>\n",
       "    <tr>\n",
       "      <th>2</th>\n",
       "      <td>https://www.bbc.co.uk/news/technology-37494863</td>\n",
       "      <td>Google, Facebook, Amazon join forces on future...</td>\n",
       "      <td>0.380820</td>\n",
       "      <td>0.502983</td>\n",
       "    </tr>\n",
       "    <tr>\n",
       "      <th>3</th>\n",
       "      <td>http://www.bbc.com/news/world-us-canada-39425862</td>\n",
       "      <td>Vector Institute is just the latest in Canada'...</td>\n",
       "      <td>0.424994</td>\n",
       "      <td>0.502620</td>\n",
       "    </tr>\n",
       "    <tr>\n",
       "      <th>4</th>\n",
       "      <td>http://www.bbc.com/news/technology-39657505</td>\n",
       "      <td>Ted 2017: The robot that wants to go to univer...</td>\n",
       "      <td>0.424357</td>\n",
       "      <td>0.502362</td>\n",
       "    </tr>\n",
       "    <tr>\n",
       "      <th>5</th>\n",
       "      <td>http://www.bbc.co.uk/news/technology-25000756</td>\n",
       "      <td>Singularity: The robots are coming to steal ou...</td>\n",
       "      <td>0.365842</td>\n",
       "      <td>0.500686</td>\n",
       "    </tr>\n",
       "    <tr>\n",
       "      <th>6</th>\n",
       "      <td>https://www.bbc.co.uk/news/business-48139212</td>\n",
       "      <td>Artificial intelligence (AI) is one of the mos...</td>\n",
       "      <td>0.407243</td>\n",
       "      <td>0.500419</td>\n",
       "    </tr>\n",
       "  </tbody>\n",
       "</table>\n",
       "</div>"
      ],
      "text/plain": [
       "                                                url  \\\n",
       "0      https://www.bbc.com/news/technology-51064369   \n",
       "1      https://www.bbc.com/news/technology-52415775   \n",
       "2    https://www.bbc.co.uk/news/technology-37494863   \n",
       "3  http://www.bbc.com/news/world-us-canada-39425862   \n",
       "4       http://www.bbc.com/news/technology-39657505   \n",
       "5     http://www.bbc.co.uk/news/technology-25000756   \n",
       "6      https://www.bbc.co.uk/news/business-48139212   \n",
       "\n",
       "                                                text  distance      rank  \n",
       "0  The last decade was a big one for artificial i...  0.281200  0.505991  \n",
       "1  UK spies will need to use artificial intellige...  0.414651  0.505261  \n",
       "2  Google, Facebook, Amazon join forces on future...  0.380820  0.502983  \n",
       "3  Vector Institute is just the latest in Canada'...  0.424994  0.502620  \n",
       "4  Ted 2017: The robot that wants to go to univer...  0.424357  0.502362  \n",
       "5  Singularity: The robots are coming to steal ou...  0.365842  0.500686  \n",
       "6  Artificial intelligence (AI) is one of the mos...  0.407243  0.500419  "
      ]
     },
     "execution_count": 12,
     "metadata": {},
     "output_type": "execute_result"
    }
   ],
   "source": [
    "rerank_client = Client(\"https://ai-blueprint-rag-augment.hf.space/\")\n",
    "\n",
    "def retrieve_and_rerank(query: str, k_retrieved: int):\n",
    "    documents = retrieve(query, k_retrieved)\n",
    "    documents = documents.drop_duplicates(\"text\")\n",
    "    documents_dict = {\n",
    "        \"headers\": documents.columns.tolist(),\n",
    "        \"data\": documents.values.tolist()\n",
    "    }\n",
    "    results = rerank_client.predict(api_name=\"/rerank\", query=query, documents=documents_dict)\n",
    "    reranked_documents = pd.DataFrame(data=results[\"data\"], columns=results[\"headers\"])\n",
    "    reranked_documents = reranked_documents.sort_values(by=\"rank\", ascending=False)\n",
    "    return reranked_documents\n",
    "\n",
    "retrieve_and_rerank(\"What is the future of AI?\", k_retrieved=10)"
   ]
  },
  {
   "cell_type": "markdown",
   "metadata": {},
   "source": [
    "We can see the returned documents have slightly shifted in the ranking, which is good, because we see that our reranking works."
   ]
  },
  {
   "cell_type": "markdown",
   "metadata": {},
   "source": [
    "## Generating responses with reranked documents\n",
    "\n",
    "We will now use the retrieved documents to generate a response based on the context. We will be using our the language model which we deployed as microservice on the Hub. See the [generate notebook](./generate.ipynb) for more details."
   ]
  },
  {
   "cell_type": "markdown",
   "metadata": {},
   "source": [
    "## Gradio as vector search interface\n",
    "\n",
    "We will be using [Gradio](https://github.com/gradio-app/gradio) as web application tool to create a demo interface for our RAG pipeline. We can develop this locally and then easily deploy it to Hugging Face Spaces. Lastly, we can use the Gradio client as SDK to directly interact our RAG pipeline.\n",
    "\n",
    "### Gradio as sharable app\n"
   ]
  },
  {
   "cell_type": "code",
   "execution_count": 38,
   "metadata": {},
   "outputs": [
    {
     "name": "stdout",
     "output_type": "stream",
     "text": [
      "* Running on local URL:  http://127.0.0.1:7865\n",
      "\n",
      "To create a public link, set `share=True` in `launch()`.\n"
     ]
    },
    {
     "data": {
      "text/html": [
       "<div><iframe src=\"http://127.0.0.1:7865/\" width=\"100%\" height=\"500\" allow=\"autoplay; camera; microphone; clipboard-read; clipboard-write;\" frameborder=\"0\" allowfullscreen></iframe></div>"
      ],
      "text/plain": [
       "<IPython.core.display.HTML object>"
      ]
     },
     "metadata": {},
     "output_type": "display_data"
    },
    {
     "data": {
      "text/plain": []
     },
     "execution_count": 38,
     "metadata": {},
     "output_type": "execute_result"
    }
   ],
   "source": [
    "import gradio as gr\n",
    "\n",
    "\n",
    "def rag_interface(query: str, k_retrieved: int, k_reranked: int):\n",
    "    response, documents = rag_pipeline(query, k_retrieved=k_retrieved, k_reranked=k_reranked)\n",
    "    return response.content, documents\n",
    "\n",
    "\n",
    "with gr.Blocks() as demo:\n",
    "    gr.Markdown(\"\"\"# RAG Hub Datasets \n",
    "                \n",
    "                Part of [smol blueprint](https://github.com/davidberenstein1957/smol-blueprint) - a smol blueprint for AI development, focusing on practical examples of RAG, information extraction, analysis and fine-tuning in the age of LLMs.\"\"\")\n",
    "\n",
    "    with gr.Row():\n",
    "        query_input = gr.Textbox(\n",
    "            label=\"Query\", placeholder=\"Enter your question here...\", lines=3\n",
    "        )\n",
    "\n",
    "    with gr.Row():\n",
    "        with gr.Column():\n",
    "            retrieve_slider = gr.Slider(\n",
    "                minimum=1,\n",
    "                maximum=20,\n",
    "                value=10,\n",
    "                label=\"Number of documents to retrieve\",\n",
    "            )\n",
    "        with gr.Column():\n",
    "            rerank_slider = gr.Slider(\n",
    "                minimum=1,\n",
    "                maximum=10,\n",
    "                value=5,\n",
    "                label=\"Number of documents to use after reranking\",\n",
    "            )\n",
    "\n",
    "    submit_btn = gr.Button(\"Submit\")\n",
    "    response_output = gr.Textbox(label=\"Response\", lines=10)\n",
    "    documents_output = gr.Dataframe(\n",
    "        label=\"Documents\", headers=[\"chunk\", \"url\", \"distance\", \"rank\"], wrap=True\n",
    "    )\n",
    "\n",
    "    submit_btn.click(\n",
    "        fn=rag_interface,\n",
    "        inputs=[query_input, retrieve_slider, rerank_slider],\n",
    "        outputs=[response_output, documents_output],\n",
    "    )\n",
    "\n",
    "demo.launch()"
   ]
  },
  {
   "cell_type": "markdown",
   "metadata": {},
   "source": [
    "<iframe\n",
    "\tsrc=\"https://smol-blueprint-rag-hub-datasets.hf.space\"\n",
    "\tframeborder=\"0\"\n",
    "\twidth=\"850\"\n",
    "\theight=\"450\"\n",
    "></iframe>"
   ]
  },
  {
   "cell_type": "markdown",
   "metadata": {},
   "source": [
    "### Deploying Gradio to Hugging Face Spaces\n",
    "\n",
    "We can now [deploy our Gradio application to Hugging Face Spaces](https://huggingface.co/new-space?sdk=gradio&name=rag-hub-datasets).\n",
    "\n",
    "-  Click on the \"Create Space\" button.\n",
    "-  Copy the code from the Gradio interface and paste it into an `app.py` file. Don't forget to copy the `generate_response_*` function, along with the code to execute the RAG pipeline.\n",
    "-  Create a `requirements.txt` file with `gradio-client` and `sentence-transformers`.\n",
    "-  Set a Hugging Face API as `HF_TOKEN` secret variable in the space settings, if you are using the Inference API.\n",
    "\n",
    "We wait a couple of minutes for the application to deploy et voila, we have [a public RAG interface](https://huggingface.co/spaces/smol-blueprint/rag-hub-datasets)!"
   ]
  },
  {
   "cell_type": "markdown",
   "metadata": {},
   "source": [
    "### Use the web app as microservice\n",
    "\n",
    "We can now use the [Gradio client as SDK](https://www.gradio.app/guides/getting-started-with-the-python-client) to directly interact with our RAG pipeline. Each Gradio app has a API documentation that describes the available endpoints and their parameters, which you can access from the button at the bottom of the Gradio app's space page."
   ]
  },
  {
   "cell_type": "code",
   "execution_count": 40,
   "metadata": {},
   "outputs": [
    {
     "name": "stdout",
     "output_type": "stream",
     "text": [
      "Loaded as API: https://smol-blueprint-rag-hub-datasets.hf.space/ ✔\n",
      "('In the future, artificial intelligence (AI) is expected to play an increasingly significant role in various aspects of society, including object recognition, computer vision, natural language processing, robotics, and more. AI is already being used to develop products and services that enhance personal convenience, make life more efficient, and improve the quality of lives.\\n\\nAI work will also be more methodical and less reliant on high-bandwidth parallelism, setting it free from the \"wonder years\" of the 21st century. This will allow AI systems to generalize and adapt more effectively, borrowing from examples and experiences to solve problems more efficiently with fewer examples.\\n\\nArtificial intelligence is expected to see an industry growth of $23 billion by 2023, a $3.75 billion growth compared to the previous year, and to continue growing at $6.9 billion each year.\\n\\nResearchers are actively exploring various AI methods, such as symbolic, connectionist, and hybrid methods, to achieve the next step in AI capabilities. A significant focus will be on development of language models and to handle datasets with uncertainty information, as challenges still linger from the 2020s and early 2030s.\\n\\nOverall, AI is here to stay, and its use is expected to continue growing as its potential benefits are realized.', {'headers': ['chunk', 'url', 'distance', 'rank'], 'data': [['Can artificial intelligence predict the future of fashion?\\nMany fashion companies are turning to artificial intelligence (AI) to help predict future fashion trends. One system detects the colour, pattern, size and combination of clothes in social media images and e-commerce websites. The company behind it says the AI can help work out what is popular in both local and global markets.', 'https://www.bbc.com/news/av/technology-46104433', 0.37602144479751587, 0.5024859309196472], ['\"The manifold of things which were lumped into the term \"AI\" will be recognised and discussed separately,\" said Samim Winiger, a former AI researcher at Google in Berlin. \"What we called \\'AI\\' or \\'machine learning\\' during the past 10-20 years, will be seen as just yet another form of \\'computation\\'\".', 'https://www.bbc.com/news/technology-51064369', 0.35873597860336304, 0.5017600059509277], [\"Artificial intelligence (AI) is one of the most exciting technologies today, and Africa doesn't want to be left behind. Today a majority of the AI industry is in North America, Europe and Asia. Efforts are being made to train computer scientists from African nations, as AI can be used to solve many complex challenges. In a bid to improve diversity, tech giants are providing investment to develop new talent. In April, Google opened its first African AI research centre in Ghana. The AI laboratory, based in Accra, will be used to develop solutions to help improve healthcare, agriculture and education. Google's head of AI Accra Moustapha Cisse is from Senegal. After completing an undergraduate degree in maths and physics in Senegal, he taught himself AI and then went to study in Paris, before joining Facebook.\", 'https://www.bbc.co.uk/news/business-48139212', 0.364774227142334, 0.5015919208526611], ['Google has its own AI labs and has been investing heavily in AI and robotics firms.', 'http://www.bbc.com/news/technology-30432493', 0.3915504217147827, 0.5006617307662964], ['\"This is why AI is a long-term scientific research journey. \"We believe AI will be one of the most powerful enabling technologies ever created - a single invention that could unlock solutions to thousands of problems. The next decade will see renewed efforts to generalise the capabilities of AI systems to help achieve that potential - both building on methods that have already been successful and researching how to build general-purpose AI that can tackle a wide range of tasks. \"\\n\\'Far to go\\'\\nWhile AGI isn\\'t going to be created any time soon, machines have learned how to master complex tasks like:\\n- playing the ancient Chinese board game Go\\n- identifying human faces\\n- translating text into practically every language\\n- spotting tumours\\n- driving cars\\n- identifying animals. The relevance of these advances was overhyped at times, says ex-DeepMinder Edward Grefenstette, who now works in the Facebook AI Research group as a research scientist. \"The field has come a very long way in the past decade, but we are very much aware that we still have far to go in scientific and technological advances to make machines truly intelligent,\" he said. \"One of the biggest challenges is to develop methods that are much more efficient in terms of the data and compute power required to learn to solve a problem well. In the past decade, we\\'ve seen impressive advances made by increasing the scale of data and computation available, but that\\'s not appropriate or scalable for every problem. \"If we want to scale to more complex behaviour, we need to do better with less data, and we need to generalise more. \"\\nNeil Lawrence, who recently left Amazon and joined the University of Cambridge as the first DeepMind-funded professor of machine learning, thinks that the AI industry is very much still in the \"wonder years\". So what will AI look like at the end of the 20s, and how will researchers go about developing it?\\n\"In the next decade, I hope we\\'ll see a more measured, realistic view of AI\\'s capability, rather than the hype we\\'ve seen so far,\" said Catherine Breslin, an ex-Amazon AI researcher. The term \"AI\" became a real buzzword through the last decade, with companies of all shapes and sizes latching onto the term, often for marketing purposes.', 'https://www.bbc.com/news/technology-51064369', 0.384782075881958, 0.500464141368866], ['\"\\nSeveral others started to talk about AGI becoming a reality, including Elon Musk\\'s $1bn AI lab, OpenAI, and academics like MIT professor Max Tegmark. In 2014, Nick Bostrom, a philosopher at Oxford University, went one step further with his book Superintelligence. It predicts a world where machines are firmly in control. But those conversations were taken less and less seriously as the decade went on. At the end of 2019, the smartest computers could still only excel at a \"narrow\" selection of tasks. Gary Marcus, an AI researcher at New York University, said: \"By the end of the decade there was a growing realisation that current techniques can only carry us so far. \"\\nHe thinks the industry needs some \"real innovation\" to go further. \"There is a general feeling of plateau,\" said Verena Rieser, a professor in conversational AI at Edinburgh\\'s Heriot Watt University. One AI researcher who wishes to remain anonymous said we\\'re entering a period where we are especially sceptical about AGI. \"The public perception of AI is increasingly dark: the public believes AI is a sinister technology,\" they said. For its part, DeepMind has a more optimistic view of AI\\'s potential, suggesting that as yet \"we\\'re only just scratching the surface of what might be possible\". \"As the community solves and discovers more, further challenging problems open up,\" explained Koray Kavukcuoglu, its vice president of research.', 'https://www.bbc.com/news/technology-51064369', 0.37062448263168335, 0.49980705976486206], ['Singularity: The robots are coming to steal our jobs\\n- 13 January 2014\\n- From the section Technology\\nIf you worry that the robots are coming, don\\'t, because they are already here. Artificial intelligence agents are already involved in every aspect of our lives - they keep our inboxes free of spam, they help us make our web transactions, they fly our planes and if Google gets its way will also soon drive our cars for us. \"AI\\'s are embedded in the fabric of our everyday lives,\" head of AI at Singularity University, Neil Jacobstein, told the BBC. \"They are used in medicine, in law, in design and throughout automotive industry. \"\\nAnd each day the algorithms that power away, making decisions behind the scenes, are getting smarter. It means that one of the biggest quests of the modern world - the search to make machines as intelligent as humans - could be getting tantalisingly close. Mr Jacobstein predicts that artificial intelligence will overtake human intelligence in the mid-2020s, begging the question - what will a society dominated by machine intelligence look like and what exactly will be our role in it?\\nWe may get to put our feet up more, for a start. Chinese company Hon Hai, the world\\'s largest contract electronics manufacturer, has announced it intends to build a robot-making factory and replace 500,000 workers with robots over the next three years. But not having a job will also mean not having a wage, a radical change for a world used to working for a living. \"AIs will cause significant unemployment but that doesn\\'t equate with poverty,\" said Mr Jacobstein. \"AIs and other exponential technologies are going to generate vast amounts of wealth. \"We have to be willing to change the social contract we have with people about how wealth is distributed. \"\\nHe tends towards the optimistic view of machines and humans working in perfect harmony, side by side. \"The best combination for problem solving is a human and a computer,\" he said.', 'http://www.bbc.co.uk/news/technology-25000756', 0.39598381519317627, 0.4988703727722168], [\"- Video: Exactly what is AI?\\n- Which jobs will AI steal first?\\n- Timeline: 15 key stops on the long road to AI\\n- Explainer: How computers file sports reports\\n- Rory's blog: Why AI matters\\n- Intelligent Machines special report\\nProduced by Nassos Stylianou, Tom Nurse, Gerry Fletcher, Aidan Fewster, Richard Bangay and John Walton.\", 'https://www.bbc.com/news/technology-34066941', 0.3924022912979126, 0.49793893098831177], ['The last decade was a big one for artificial intelligence but researchers in the field believe that the industry is about to enter a new phase. Hype surrounding AI has peaked and troughed over the years as the abilities of the technology get overestimated and then re-evaluated. The peaks are known as AI summers, and the troughs AI winters. The 10s were arguably the hottest AI summer on record with tech giants repeatedly touting AI\\'s abilities. AI pioneer Yoshua Bengio, sometimes called one of the \"godfathers of AI\", told the BBC that AI\\'s abilities were somewhat overhyped in the 10s by certain companies with an interest in doing so. There are signs, however, that the hype might be about to start cooling off. \"I have the sense that AI is transitioning to a new phase,\" said Katja Hofmann, a principal researcher at Microsoft Research in Cambridge. Given the billions being invested in AI and the fact that there are likely to be more breakthroughs ahead, some researchers believe it would be wrong to call this new phase an AI winter. Robot Wars judge Noel Sharkey, who is also a professor of AI and robotics at Sheffield University, told the BBC that he likes the term \"AI autumn\" - and several others agree. \\'Feeling of plateau\\'\\nAt the start of the 2010s, one of the world leaders in AI, DeepMind, often referred to something called AGI, or \"artificial general intelligence\" being developed at some point in the future. Machines that possess AGI - widely thought of as the holy grail in AI - would be just as smart as humans across the board, it promised. DeepMind\\'s lofty AGI ambitions caught the attention of Google, who paid around £400m for the London-based AI lab in 2014 when it had the following mission statement splashed across its website: \"Solve intelligence, and then use that to solve everything else.', 'https://www.bbc.com/news/technology-51064369', 0.2601972818374634, 0.4977376163005829]], 'metadata': None})\n"
     ]
    }
   ],
   "source": [
    "from gradio_client import Client\n",
    "\n",
    "client = Client(\"https://smol-blueprint-rag-hub-datasets.hf.space/\")\n",
    "result = client.predict(\n",
    "    query=\"What is the future of AI?\",\n",
    "    k_retrieved=10,\n",
    "    k_reranked=5,\n",
    "    api_name=\"/rag_pipeline\",\n",
    ")\n",
    "result"
   ]
  },
  {
   "cell_type": "markdown",
   "metadata": {},
   "source": [
    "## Next steps\n",
    "\n",
    "We have seen how to build a RAG pipeline with a SmolLM and some rerankers. Next steps would be to monitor the performance of the RAG pipeline and improve it."
   ]
  }
 ],
 "metadata": {
  "kernelspec": {
   "display_name": ".venv",
   "language": "python",
   "name": "python3"
  },
  "language_info": {
   "codemirror_mode": {
    "name": "ipython",
    "version": 3
   },
   "file_extension": ".py",
   "mimetype": "text/x-python",
   "name": "python",
   "nbconvert_exporter": "python",
   "pygments_lexer": "ipython3",
   "version": "3.12.8"
  }
 },
 "nbformat": 4,
 "nbformat_minor": 2
}
