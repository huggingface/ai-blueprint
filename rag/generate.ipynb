{
 "cells": [
  {
   "cell_type": "markdown",
   "metadata": {},
   "source": [
    "# Generate responses with a SmolLM\n",
    "\n",
    "We have seen how to [retrieve](retrieve.ipynb) and [rerank](./augment.ipynb) documents in a RAG pipeline. Currently, we will show how to generate a response based on a query and a set of retrieved documents. This will be done using a SmolLM model, which we will deploy as a microservice at the end of this notebook. \n"
   ]
  },
  {
   "cell_type": "markdown",
   "metadata": {},
   "source": [
    "## Inference API\n",
    "\n",
    "When using a SmolLM, we can use different providers, like `llama-cpp`, `vllm` or `ollama`, however, for simplicty on the HUb we will show how to use a local transformers and a model hosted on the Inference API. We will do this on top of the OpenAI API format, which means the `messages` parameter will be a list of dictionaries with `role` and `content` keys.\n",
    "\n",
    "### SmolLM in transformers\n",
    "\n",
    "We will use [HuggingFaceTB/SmolLM2-360M-Instruct](https://huggingface.co/HuggingFaceTB/SmolLM2-360M-Instruct) and use [the transformers integration attached to the model on the Hub](https://huggingface.co/HuggingFaceTB/SmolLM2-360M-Instruct?library=transformers). Note that we allow for passing `kwargs` like `max_new_tokens` as a parameter to the function which will be passed to the pipeline."
   ]
  },
  {
   "cell_type": "code",
   "execution_count": 12,
   "metadata": {},
   "outputs": [
    {
     "name": "stderr",
     "output_type": "stream",
     "text": [
      "Device set to use mps:0\n"
     ]
    },
    {
     "data": {
      "text/plain": [
       "[{'generated_text': [{'role': 'user', 'content': 'What is the future of AI?'},\n",
       "   {'role': 'assistant',\n",
       "    'content': \"AI is evolving rapidly, and we're on the cusp of a new era. Here are some of the key trends and advancements that will shape the future of AI:\\n\\n1. **Quantum Computing**: Quantum computers are expected to revolutionize AI by solving complex problems that are currently unsolvable by classical computers. They will also enable AI to learn from itself, making it more self-aware and capable of adapting to new situations.\\n\\n2. **Neuromorphic Computing**: Neuromorphic computing is a type of AI that mimics the human brain's structure and function. It's expected to be used in AI systems that can learn and adapt in real-time, much like the human brain.\\n\\n3. **Explainable AI (XAI)**: Explainable AI aims to make AI systems more transparent and understandable. This is important because AI systems are often used in critical applications, and it's crucial that they are transparent about their decisions.\\n\\n4. **AI in Healthcare**: AI is being used in healthcare to improve diagnosis, treatment, and patient care. For example, AI can be used to analyze medical images, detect diseases, and provide personalized treatment recommendations.\\n\\n5. **AI in Education**: AI is being used in education to make learning more interactive, personalized, and effective. AI can help students learn more efficiently, and AI can also help teachers provide more effective feedback.\\n\\n6. **AI in Transportation**: AI is being used in transportation to improve safety, efficiency, and sustainability. For example, AI can be used to optimize traffic flow, predict traffic jams, and detect potential accidents.\\n\\n7. **AI in Agriculture**: AI is being used in agriculture to improve crop yields, predict weather patterns, and detect diseases. AI can also be used to optimize farming practices, such as irrigation and pest control.\\n\\n8. **AI in Virtual Reality**: AI is being used in virtual reality to create more immersive and realistic experiences. For example, AI can be used to create virtual environments that are more realistic than real-world environments.\\n\\n9. **AI in Robotics**: AI is being used in robotics to improve the performance of robots. For example, AI can be used to improve the navigation of robots, detect obstacles, and perform tasks that are currently difficult for robots.\\n\\n10. **AI in Social Media**: AI is being used in social media to improve the quality of content, detect spam, and provide personalized recommendations. AI can also be used to analyze social media data to understand public opinion and sentiment.\\n\\nThese are just a few of the trends and advancements that will shape the future of AI. The field is constantly evolving, and we're on the cusp of new breakthroughs and innovations.\"}]}]"
      ]
     },
     "execution_count": 12,
     "metadata": {},
     "output_type": "execute_result"
    }
   ],
   "source": [
    "from transformers import pipeline\n",
    "from typing import Union\n",
    "\n",
    "pipe = pipeline(\"text-generation\", model=\"HuggingFaceTB/SmolLM2-360M-Instruct\")\n",
    "\n",
    "\n",
    "def generate_response_transformers(user_prompt: str, system_prompt: str = \"You are a helpful assistant.\", **kwargs):\n",
    "    messages = [\n",
    "        {\"role\": \"system\", \"content\": system_prompt},\n",
    "        {\"role\": \"user\", \"content\": user_prompt},\n",
    "    ] \n",
    "    return pipe(messages, **kwargs)\n",
    "\n",
    "\n",
    "generate_response_transformers(\n",
    "    [{\"role\": \"user\", \"content\": \"What is the future of AI?\"}], max_new_tokens=4000\n",
    ")"
   ]
  },
  {
   "cell_type": "markdown",
   "metadata": {},
   "source": [
    "### SmolLM in Hugging Face Inference API\n",
    "\n",
    "We will use the [serverless Hugging Face Inference API](https://huggingface.co/inference-api). This is free and means we don't have to worry about hosting the model. We can find models available for inference [through some basic filters on the Hub](https://huggingface.co/models?inference=warm&pipeline_tag=text-generation&sort=trending). We will use the [HuggingFaceTB/SmolLM2-360M-Instruct](https://huggingface.co/HuggingFaceTB/SmolLM2-360M-Instruct) model and call it with [the provided inference endpoint snippet](https://huggingface.co/HuggingFaceTB/SmolLM2-360M-Instruct?inference_api=true)."
   ]
  },
  {
   "cell_type": "code",
   "execution_count": 11,
   "metadata": {},
   "outputs": [
    {
     "data": {
      "text/plain": [
       "ChatCompletionOutputMessage(role='assistant', content=\"AI, as it stands today, is still evolving and growing rapidly. However, we do see some exciting trends emerging:\\n\\n1. Emotional Intelligence: AI can better mimic emotions it's  not a replacement. AI humans are more empathetic and have the capability of showing emotions.\\n\\n2. Personalized Learning: AI can provide personalized learning experiences for individuals based on their preferences, personality and learning style. The learning experience is now more dynamic and engaging for students.\\n\\n3. Industry Applications: AI is giving jobs a new appearance and role. For example, automation and machines are now able to perform routine tasks that previously were hand written by humans. In the future, AI will help us solve complex problems more efficiently.\\n\\n4. Health Care: AI can enhance our health by creating personalized medicine plans based on a person's genetics, environmental, lifestyle and medical history. \\n\\n5. Education: AI learning platforms are being implemented in schools helping students to learn faster and within their own time, improving their engagement with the subject.\\n\\n6. Marketing: AI can help businesses to personalize marketing strategies by understanding human behavior, personality, and the web interactions of potential customers.\\n\\nRemember, AI is a tool, not Household service. It improves efficiency and delivers value, but it also brings new challenges. It will be a part of our daily lives and work in every aspect of the world.\", tool_calls=None)"
      ]
     },
     "execution_count": 11,
     "metadata": {},
     "output_type": "execute_result"
    }
   ],
   "source": [
    "from huggingface_hub import get_token, InferenceClient\n",
    "from typing import Union\n",
    "\n",
    "inference_client = InferenceClient(api_key=get_token())\n",
    "\n",
    "\n",
    "def generate_response_api(\n",
    "    user_prompt: str,\n",
    "    system_prompt: str = \"You are a helpful assistant.\",\n",
    "    model: str = \"HuggingFaceTB/SmolLM2-360M-Instruct\",\n",
    "    **kwargs,\n",
    "):\n",
    "    messages = [\n",
    "        {\"role\": \"system\", \"content\": system_prompt},\n",
    "        {\"role\": \"user\", \"content\": user_prompt},\n",
    "    ]\n",
    "    completion = inference_client.chat.completions.create(\n",
    "        model=model, messages=messages, **kwargs\n",
    "    )\n",
    "\n",
    "    return completion.choices[0].message\n",
    "\n",
    "\n",
    "generate_response_api(\"What is the future of AI?\")"
   ]
  },
  {
   "cell_type": "markdown",
   "metadata": {},
   "source": [
    "## Creating a web app and microservice for generating responses\n",
    "\n",
    "We will be using [Gradio](https://github.com/gradio-app/gradio) as web application tool to create a demo interface for our RAG pipeline. We can develop this locally and then easily deploy it to Hugging Face Spaces. Lastly, we can use the Gradio client as SDK to directly interact our RAG pipeline.\n",
    "\n",
    "### Gradio as sharable app\n"
   ]
  },
  {
   "cell_type": "code",
   "execution_count": 6,
   "metadata": {},
   "outputs": [
    {
     "name": "stdout",
     "output_type": "stream",
     "text": [
      "* Running on local URL:  http://127.0.0.1:7860\n",
      "\n",
      "To create a public link, set `share=True` in `launch()`.\n"
     ]
    },
    {
     "data": {
      "text/html": [
       "<div><iframe src=\"http://127.0.0.1:7860/\" width=\"100%\" height=\"500\" allow=\"autoplay; camera; microphone; clipboard-read; clipboard-write;\" frameborder=\"0\" allowfullscreen></iframe></div>"
      ],
      "text/plain": [
       "<IPython.core.display.HTML object>"
      ]
     },
     "metadata": {},
     "output_type": "display_data"
    },
    {
     "data": {
      "text/plain": []
     },
     "execution_count": 6,
     "metadata": {},
     "output_type": "execute_result"
    }
   ],
   "source": [
    "import gradio as gr\n",
    "\n",
    "def generate_response(user_prompt: str, system_prompt: str = \"You are a helpful assistant.\", **kwargs):\n",
    "    messages = [\n",
    "        {\"role\": \"system\", \"content\": system_prompt},\n",
    "        {\"role\": \"user\", \"content\": user_prompt},\n",
    "    ]\n",
    "    return generate_response_transformers(user_prompt, system_prompt, **kwargs)\n",
    "\n",
    "with gr.Blocks() as demo:\n",
    "    gr.Markdown(\"\"\"# RAG - generate\n",
    "                \n",
    "                Part of [smol blueprint](https://github.com/davidberenstein1957/smol-blueprint) - a smol blueprint for AI development, focusing on practical examples of RAG, information extraction, analysis and fine-tuning in the age of LLMs.\"\"\")\n",
    "\n",
    "    with gr.Row():\n",
    "        user_prompt = gr.Textbox(label=\"Query\", lines=3)\n",
    "        \n",
    "\n",
    "    with gr.Row():\n",
    "        max_new_tokens = gr.Number(250)\n",
    "\n",
    "    submit_btn = gr.Button(\"Submit\")\n",
    "    response_output = gr.Textbox(label=\"Response\", lines=10)\n",
    "    documents_output = gr.Dataframe(\n",
    "        label=\"Documents\", headers=[\"chunk\", \"url\", \"distance\", \"rank\"], wrap=True\n",
    "    )\n",
    "\n",
    "    submit_btn.click(\n",
    "        fn=rag_interface,\n",
    "        inputs=[query_input, retrieve_slider, rerank_slider],\n",
    "        outputs=[response_output, documents_output],\n",
    "    )\n",
    "\n",
    "demo.launch()"
   ]
  },
  {
   "cell_type": "markdown",
   "metadata": {},
   "source": [
    "<iframe\n",
    "\tsrc=\"https://smol-blueprint-rag-hub-datasets.hf.space\"\n",
    "\tframeborder=\"0\"\n",
    "\twidth=\"850\"\n",
    "\theight=\"450\"\n",
    "></iframe>"
   ]
  },
  {
   "cell_type": "markdown",
   "metadata": {},
   "source": [
    "### Deploying Gradio to Hugging Face Spaces\n",
    "\n",
    "We can now [deploy our Gradio application to Hugging Face Spaces](https://huggingface.co/new-space?sdk=gradio&name=rag-hub-datasets).\n",
    "\n",
    "-  Click on the \"Create Space\" button.\n",
    "-  Copy the code from the Gradio interface and paste it into an `app.py` file. Don't forget to copy the `generate_response_*` function, along with the code to execute the RAG pipeline.\n",
    "-  Create a `requirements.txt` file with `gradio-client` and `sentence-transformers`.\n",
    "-  Set a Hugging Face API as `HF_TOKEN` secret variable in the space settings, if you are using the Inference API.\n",
    "\n",
    "We wait a couple of minutes for the application to deploy et voila, we have [a public RAG interface](https://huggingface.co/spaces/smol-blueprint/rag-hub-datasets)!"
   ]
  },
  {
   "cell_type": "markdown",
   "metadata": {},
   "source": [
    "### Gradio as REST API\n",
    "\n",
    "We can now use the [Gradio client as SDK](https://www.gradio.app/guides/getting-started-with-the-python-client) to directly interact with our RAG pipeline. Each Gradio app has a API documentation that describes the available endpoints and their parameters, which you can access from the button at the bottom of the Gradio app's space page."
   ]
  },
  {
   "cell_type": "code",
   "execution_count": 40,
   "metadata": {},
   "outputs": [
    {
     "name": "stdout",
     "output_type": "stream",
     "text": [
      "Loaded as API: https://smol-blueprint-rag-hub-datasets.hf.space/ ✔\n",
      "('In the future, artificial intelligence (AI) is expected to play an increasingly significant role in various aspects of society, including object recognition, computer vision, natural language processing, robotics, and more. AI is already being used to develop products and services that enhance personal convenience, make life more efficient, and improve the quality of lives.\\n\\nAI work will also be more methodical and less reliant on high-bandwidth parallelism, setting it free from the \"wonder years\" of the 21st century. This will allow AI systems to generalize and adapt more effectively, borrowing from examples and experiences to solve problems more efficiently with fewer examples.\\n\\nArtificial intelligence is expected to see an industry growth of $23 billion by 2023, a $3.75 billion growth compared to the previous year, and to continue growing at $6.9 billion each year.\\n\\nResearchers are actively exploring various AI methods, such as symbolic, connectionist, and hybrid methods, to achieve the next step in AI capabilities. A significant focus will be on development of language models and to handle datasets with uncertainty information, as challenges still linger from the 2020s and early 2030s.\\n\\nOverall, AI is here to stay, and its use is expected to continue growing as its potential benefits are realized.', {'headers': ['chunk', 'url', 'distance', 'rank'], 'data': [['Can artificial intelligence predict the future of fashion?\\nMany fashion companies are turning to artificial intelligence (AI) to help predict future fashion trends. One system detects the colour, pattern, size and combination of clothes in social media images and e-commerce websites. The company behind it says the AI can help work out what is popular in both local and global markets.', 'https://www.bbc.com/news/av/technology-46104433', 0.37602144479751587, 0.5024859309196472], ['\"The manifold of things which were lumped into the term \"AI\" will be recognised and discussed separately,\" said Samim Winiger, a former AI researcher at Google in Berlin. \"What we called \\'AI\\' or \\'machine learning\\' during the past 10-20 years, will be seen as just yet another form of \\'computation\\'\".', 'https://www.bbc.com/news/technology-51064369', 0.35873597860336304, 0.5017600059509277], [\"Artificial intelligence (AI) is one of the most exciting technologies today, and Africa doesn't want to be left behind. Today a majority of the AI industry is in North America, Europe and Asia. Efforts are being made to train computer scientists from African nations, as AI can be used to solve many complex challenges. In a bid to improve diversity, tech giants are providing investment to develop new talent. In April, Google opened its first African AI research centre in Ghana. The AI laboratory, based in Accra, will be used to develop solutions to help improve healthcare, agriculture and education. Google's head of AI Accra Moustapha Cisse is from Senegal. After completing an undergraduate degree in maths and physics in Senegal, he taught himself AI and then went to study in Paris, before joining Facebook.\", 'https://www.bbc.co.uk/news/business-48139212', 0.364774227142334, 0.5015919208526611], ['Google has its own AI labs and has been investing heavily in AI and robotics firms.', 'http://www.bbc.com/news/technology-30432493', 0.3915504217147827, 0.5006617307662964], ['\"This is why AI is a long-term scientific research journey. \"We believe AI will be one of the most powerful enabling technologies ever created - a single invention that could unlock solutions to thousands of problems. The next decade will see renewed efforts to generalise the capabilities of AI systems to help achieve that potential - both building on methods that have already been successful and researching how to build general-purpose AI that can tackle a wide range of tasks. \"\\n\\'Far to go\\'\\nWhile AGI isn\\'t going to be created any time soon, machines have learned how to master complex tasks like:\\n- playing the ancient Chinese board game Go\\n- identifying human faces\\n- translating text into practically every language\\n- spotting tumours\\n- driving cars\\n- identifying animals. The relevance of these advances was overhyped at times, says ex-DeepMinder Edward Grefenstette, who now works in the Facebook AI Research group as a research scientist. \"The field has come a very long way in the past decade, but we are very much aware that we still have far to go in scientific and technological advances to make machines truly intelligent,\" he said. \"One of the biggest challenges is to develop methods that are much more efficient in terms of the data and compute power required to learn to solve a problem well. In the past decade, we\\'ve seen impressive advances made by increasing the scale of data and computation available, but that\\'s not appropriate or scalable for every problem. \"If we want to scale to more complex behaviour, we need to do better with less data, and we need to generalise more. \"\\nNeil Lawrence, who recently left Amazon and joined the University of Cambridge as the first DeepMind-funded professor of machine learning, thinks that the AI industry is very much still in the \"wonder years\". So what will AI look like at the end of the 20s, and how will researchers go about developing it?\\n\"In the next decade, I hope we\\'ll see a more measured, realistic view of AI\\'s capability, rather than the hype we\\'ve seen so far,\" said Catherine Breslin, an ex-Amazon AI researcher. The term \"AI\" became a real buzzword through the last decade, with companies of all shapes and sizes latching onto the term, often for marketing purposes.', 'https://www.bbc.com/news/technology-51064369', 0.384782075881958, 0.500464141368866], ['\"\\nSeveral others started to talk about AGI becoming a reality, including Elon Musk\\'s $1bn AI lab, OpenAI, and academics like MIT professor Max Tegmark. In 2014, Nick Bostrom, a philosopher at Oxford University, went one step further with his book Superintelligence. It predicts a world where machines are firmly in control. But those conversations were taken less and less seriously as the decade went on. At the end of 2019, the smartest computers could still only excel at a \"narrow\" selection of tasks. Gary Marcus, an AI researcher at New York University, said: \"By the end of the decade there was a growing realisation that current techniques can only carry us so far. \"\\nHe thinks the industry needs some \"real innovation\" to go further. \"There is a general feeling of plateau,\" said Verena Rieser, a professor in conversational AI at Edinburgh\\'s Heriot Watt University. One AI researcher who wishes to remain anonymous said we\\'re entering a period where we are especially sceptical about AGI. \"The public perception of AI is increasingly dark: the public believes AI is a sinister technology,\" they said. For its part, DeepMind has a more optimistic view of AI\\'s potential, suggesting that as yet \"we\\'re only just scratching the surface of what might be possible\". \"As the community solves and discovers more, further challenging problems open up,\" explained Koray Kavukcuoglu, its vice president of research.', 'https://www.bbc.com/news/technology-51064369', 0.37062448263168335, 0.49980705976486206], ['Singularity: The robots are coming to steal our jobs\\n- 13 January 2014\\n- From the section Technology\\nIf you worry that the robots are coming, don\\'t, because they are already here. Artificial intelligence agents are already involved in every aspect of our lives - they keep our inboxes free of spam, they help us make our web transactions, they fly our planes and if Google gets its way will also soon drive our cars for us. \"AI\\'s are embedded in the fabric of our everyday lives,\" head of AI at Singularity University, Neil Jacobstein, told the BBC. \"They are used in medicine, in law, in design and throughout automotive industry. \"\\nAnd each day the algorithms that power away, making decisions behind the scenes, are getting smarter. It means that one of the biggest quests of the modern world - the search to make machines as intelligent as humans - could be getting tantalisingly close. Mr Jacobstein predicts that artificial intelligence will overtake human intelligence in the mid-2020s, begging the question - what will a society dominated by machine intelligence look like and what exactly will be our role in it?\\nWe may get to put our feet up more, for a start. Chinese company Hon Hai, the world\\'s largest contract electronics manufacturer, has announced it intends to build a robot-making factory and replace 500,000 workers with robots over the next three years. But not having a job will also mean not having a wage, a radical change for a world used to working for a living. \"AIs will cause significant unemployment but that doesn\\'t equate with poverty,\" said Mr Jacobstein. \"AIs and other exponential technologies are going to generate vast amounts of wealth. \"We have to be willing to change the social contract we have with people about how wealth is distributed. \"\\nHe tends towards the optimistic view of machines and humans working in perfect harmony, side by side. \"The best combination for problem solving is a human and a computer,\" he said.', 'http://www.bbc.co.uk/news/technology-25000756', 0.39598381519317627, 0.4988703727722168], [\"- Video: Exactly what is AI?\\n- Which jobs will AI steal first?\\n- Timeline: 15 key stops on the long road to AI\\n- Explainer: How computers file sports reports\\n- Rory's blog: Why AI matters\\n- Intelligent Machines special report\\nProduced by Nassos Stylianou, Tom Nurse, Gerry Fletcher, Aidan Fewster, Richard Bangay and John Walton.\", 'https://www.bbc.com/news/technology-34066941', 0.3924022912979126, 0.49793893098831177], ['The last decade was a big one for artificial intelligence but researchers in the field believe that the industry is about to enter a new phase. Hype surrounding AI has peaked and troughed over the years as the abilities of the technology get overestimated and then re-evaluated. The peaks are known as AI summers, and the troughs AI winters. The 10s were arguably the hottest AI summer on record with tech giants repeatedly touting AI\\'s abilities. AI pioneer Yoshua Bengio, sometimes called one of the \"godfathers of AI\", told the BBC that AI\\'s abilities were somewhat overhyped in the 10s by certain companies with an interest in doing so. There are signs, however, that the hype might be about to start cooling off. \"I have the sense that AI is transitioning to a new phase,\" said Katja Hofmann, a principal researcher at Microsoft Research in Cambridge. Given the billions being invested in AI and the fact that there are likely to be more breakthroughs ahead, some researchers believe it would be wrong to call this new phase an AI winter. Robot Wars judge Noel Sharkey, who is also a professor of AI and robotics at Sheffield University, told the BBC that he likes the term \"AI autumn\" - and several others agree. \\'Feeling of plateau\\'\\nAt the start of the 2010s, one of the world leaders in AI, DeepMind, often referred to something called AGI, or \"artificial general intelligence\" being developed at some point in the future. Machines that possess AGI - widely thought of as the holy grail in AI - would be just as smart as humans across the board, it promised. DeepMind\\'s lofty AGI ambitions caught the attention of Google, who paid around £400m for the London-based AI lab in 2014 when it had the following mission statement splashed across its website: \"Solve intelligence, and then use that to solve everything else.', 'https://www.bbc.com/news/technology-51064369', 0.2601972818374634, 0.4977376163005829]], 'metadata': None})\n"
     ]
    }
   ],
   "source": [
    "from gradio_client import Client\n",
    "\n",
    "client = Client(\"https://smol-blueprint-rag-hub-datasets.hf.space/\")\n",
    "result = client.predict(\n",
    "    query=\"What is the future of AI?\",\n",
    "    k_retrieved=10,\n",
    "    k_reranked=5,\n",
    "    api_name=\"/rag_pipeline\",\n",
    ")\n",
    "result"
   ]
  },
  {
   "cell_type": "markdown",
   "metadata": {},
   "source": [
    "## Next steps\n",
    "\n",
    "We have seen how to build a RAG pipeline with a SmolLM and some rerankers. Next steps would be to monitor the performance of the RAG pipeline and improve it."
   ]
  }
 ],
 "metadata": {
  "kernelspec": {
   "display_name": ".venv",
   "language": "python",
   "name": "python3"
  },
  "language_info": {
   "codemirror_mode": {
    "name": "ipython",
    "version": 3
   },
   "file_extension": ".py",
   "mimetype": "text/x-python",
   "name": "python",
   "nbconvert_exporter": "python",
   "pygments_lexer": "ipython3",
   "version": "3.12.8"
  }
 },
 "nbformat": 4,
 "nbformat_minor": 2
}
