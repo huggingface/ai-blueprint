{
 "cells": [
  {
   "cell_type": "markdown",
   "metadata": {},
   "source": [
    "# Augment retrieval results by reranking using Sentence Transformers\n",
    "\n",
    "Retrieval are quick estimates of the most relevant documents to a query which works fine for a first pass over millions of documents, but we can improve this relevance by reranking the retrieved documents. We will be using the retrieval microservice of the [Index and retrieve documents for vector search using Sentence Transformers and DuckDB](./retrieve.ipynb) notebook to build a reranker. At the end we will have deployed a microservice that can be used to perform reranking of documents based on a query.\n",
    "\n",
    "## Hugging Face as a vector search backend\n",
    "\n",
    "A brief recap of the previous notebook, we use Hugging Face as vector search backend and can call it as a REST API through the Gradio Python Client."
   ]
  },
  {
   "cell_type": "code",
   "execution_count": 34,
   "metadata": {},
   "outputs": [
    {
     "name": "stdout",
     "output_type": "stream",
     "text": [
      "Loaded as API: https://smol-blueprint-rag-retrieve.hf.space/ ✔\n"
     ]
    },
    {
     "data": {
      "text/html": [
       "<div>\n",
       "<style scoped>\n",
       "    .dataframe tbody tr th:only-of-type {\n",
       "        vertical-align: middle;\n",
       "    }\n",
       "\n",
       "    .dataframe tbody tr th {\n",
       "        vertical-align: top;\n",
       "    }\n",
       "\n",
       "    .dataframe thead th {\n",
       "        text-align: right;\n",
       "    }\n",
       "</style>\n",
       "<table border=\"1\" class=\"dataframe\">\n",
       "  <thead>\n",
       "    <tr style=\"text-align: right;\">\n",
       "      <th></th>\n",
       "      <th>chunk</th>\n",
       "      <th>url</th>\n",
       "      <th>distance</th>\n",
       "    </tr>\n",
       "  </thead>\n",
       "  <tbody>\n",
       "    <tr>\n",
       "      <th>0</th>\n",
       "      <td>The last decade was a big one for artificial i...</td>\n",
       "      <td>https://www.bbc.com/news/technology-51064369</td>\n",
       "      <td>0.260197</td>\n",
       "    </tr>\n",
       "    <tr>\n",
       "      <th>1</th>\n",
       "      <td>\"The manifold of things which were lumped into...</td>\n",
       "      <td>https://www.bbc.com/news/technology-51064369</td>\n",
       "      <td>0.358736</td>\n",
       "    </tr>\n",
       "    <tr>\n",
       "      <th>2</th>\n",
       "      <td>Artificial intelligence (AI) is one of the mos...</td>\n",
       "      <td>https://www.bbc.co.uk/news/business-48139212</td>\n",
       "      <td>0.364774</td>\n",
       "    </tr>\n",
       "    <tr>\n",
       "      <th>3</th>\n",
       "      <td>\"\\nSeveral others started to talk about AGI be...</td>\n",
       "      <td>https://www.bbc.com/news/technology-51064369</td>\n",
       "      <td>0.370624</td>\n",
       "    </tr>\n",
       "    <tr>\n",
       "      <th>4</th>\n",
       "      <td>Can artificial intelligence predict the future...</td>\n",
       "      <td>https://www.bbc.com/news/av/technology-46104433</td>\n",
       "      <td>0.376021</td>\n",
       "    </tr>\n",
       "  </tbody>\n",
       "</table>\n",
       "</div>"
      ],
      "text/plain": [
       "                                               chunk  \\\n",
       "0  The last decade was a big one for artificial i...   \n",
       "1  \"The manifold of things which were lumped into...   \n",
       "2  Artificial intelligence (AI) is one of the mos...   \n",
       "3  \"\\nSeveral others started to talk about AGI be...   \n",
       "4  Can artificial intelligence predict the future...   \n",
       "\n",
       "                                               url  distance  \n",
       "0     https://www.bbc.com/news/technology-51064369  0.260197  \n",
       "1     https://www.bbc.com/news/technology-51064369  0.358736  \n",
       "2     https://www.bbc.co.uk/news/business-48139212  0.364774  \n",
       "3     https://www.bbc.com/news/technology-51064369  0.370624  \n",
       "4  https://www.bbc.com/news/av/technology-46104433  0.376021  "
      ]
     },
     "execution_count": 34,
     "metadata": {},
     "output_type": "execute_result"
    }
   ],
   "source": [
    "from gradio_client import Client\n",
    "import pandas as pd\n",
    "\n",
    "gradio_client = Client(\"https://smol-blueprint-rag-retrieve.hf.space/\")\n",
    "\n",
    "\n",
    "def similarity_search(query: str, k: int = 5) -> pd.DataFrame:\n",
    "    results = gradio_client.predict(api_name=\"/similarity_search\", query=query, k=k)\n",
    "    return pd.DataFrame(data=results[\"data\"], columns=results[\"headers\"])\n",
    "\n",
    "\n",
    "similarity_search(\"What is the future of AI?\", k=5)"
   ]
  },
  {
   "cell_type": "markdown",
   "metadata": {},
   "source": [
    "## Reranking retrieved documents\n",
    "\n",
    "Whenever we retrieve documents from the vector search backend, we can improve the quality of the documents that we pass to the LLM. We do that by ranking the documents by relevance to the query. We will use the [sentence-transformers library](https://huggingface.co/sentence-transformers). You can find the best models to do this, using the [MTEB leaderboard](https://huggingface.co/spaces/mteb/leaderboard). \n",
    "\n",
    "We will first retrieve 50 documents and then use [sentence-transformers/all-MiniLM-L12-v2](https://huggingface.co/sentence-transformers/all-MiniLM-L12-v2) to rerank the documents and return the top 5."
   ]
  },
  {
   "cell_type": "code",
   "execution_count": 19,
   "metadata": {},
   "outputs": [
    {
     "name": "stderr",
     "output_type": "stream",
     "text": [
      "Some weights of BertForSequenceClassification were not initialized from the model checkpoint at sentence-transformers/all-MiniLM-L12-v2 and are newly initialized: ['classifier.bias', 'classifier.weight']\n",
      "You should probably TRAIN this model on a down-stream task to be able to use it for predictions and inference.\n"
     ]
    },
    {
     "data": {
      "text/html": [
       "<div>\n",
       "<style scoped>\n",
       "    .dataframe tbody tr th:only-of-type {\n",
       "        vertical-align: middle;\n",
       "    }\n",
       "\n",
       "    .dataframe tbody tr th {\n",
       "        vertical-align: top;\n",
       "    }\n",
       "\n",
       "    .dataframe thead th {\n",
       "        text-align: right;\n",
       "    }\n",
       "</style>\n",
       "<table border=\"1\" class=\"dataframe\">\n",
       "  <thead>\n",
       "    <tr style=\"text-align: right;\">\n",
       "      <th></th>\n",
       "      <th>chunk</th>\n",
       "      <th>url</th>\n",
       "      <th>distance</th>\n",
       "      <th>rank</th>\n",
       "    </tr>\n",
       "  </thead>\n",
       "  <tbody>\n",
       "    <tr>\n",
       "      <th>47</th>\n",
       "      <td>Google, Facebook, Amazon join forces on future...</td>\n",
       "      <td>https://www.bbc.co.uk/news/technology-37494863</td>\n",
       "      <td>0.494021</td>\n",
       "      <td>0.503516</td>\n",
       "    </tr>\n",
       "    <tr>\n",
       "      <th>6</th>\n",
       "      <td>Google has its own AI labs and has been invest...</td>\n",
       "      <td>http://www.bbc.com/news/technology-30432493</td>\n",
       "      <td>0.391550</td>\n",
       "      <td>0.502463</td>\n",
       "    </tr>\n",
       "    <tr>\n",
       "      <th>29</th>\n",
       "      <td>IBM says it can \"analyze and interpret all of ...</td>\n",
       "      <td>http://www.bbc.com/news/world-asia-38521403</td>\n",
       "      <td>0.443237</td>\n",
       "      <td>0.502219</td>\n",
       "    </tr>\n",
       "    <tr>\n",
       "      <th>8</th>\n",
       "      <td>Singularity: The robots are coming to steal ou...</td>\n",
       "      <td>http://www.bbc.com/news/technology-25000756</td>\n",
       "      <td>0.395984</td>\n",
       "      <td>0.501567</td>\n",
       "    </tr>\n",
       "    <tr>\n",
       "      <th>11</th>\n",
       "      <td>Google developing kill switch for AI\\n- 8 June...</td>\n",
       "      <td>http://www.bbc.com/news/technology-36472140</td>\n",
       "      <td>0.397516</td>\n",
       "      <td>0.501371</td>\n",
       "    </tr>\n",
       "  </tbody>\n",
       "</table>\n",
       "</div>"
      ],
      "text/plain": [
       "                                                chunk  \\\n",
       "47  Google, Facebook, Amazon join forces on future...   \n",
       "6   Google has its own AI labs and has been invest...   \n",
       "29  IBM says it can \"analyze and interpret all of ...   \n",
       "8   Singularity: The robots are coming to steal ou...   \n",
       "11  Google developing kill switch for AI\\n- 8 June...   \n",
       "\n",
       "                                               url  distance      rank  \n",
       "47  https://www.bbc.co.uk/news/technology-37494863  0.494021  0.503516  \n",
       "6      http://www.bbc.com/news/technology-30432493  0.391550  0.502463  \n",
       "29     http://www.bbc.com/news/world-asia-38521403  0.443237  0.502219  \n",
       "8      http://www.bbc.com/news/technology-25000756  0.395984  0.501567  \n",
       "11     http://www.bbc.com/news/technology-36472140  0.397516  0.501371  "
      ]
     },
     "execution_count": 19,
     "metadata": {},
     "output_type": "execute_result"
    }
   ],
   "source": [
    "from sentence_transformers import CrossEncoder\n",
    "import pandas as pd\n",
    "\n",
    "reranker = CrossEncoder(\"sentence-transformers/all-MiniLM-L12-v2\")\n",
    "\n",
    "\n",
    "def rerank_documents(query: str, documents: pd.DataFrame) -> pd.DataFrame:\n",
    "    documents = documents.copy()\n",
    "    documents = documents.drop_duplicates(\"chunk\")\n",
    "    documents[\"rank\"] = reranker.predict([[query, hit] for hit in documents[\"chunk\"]])\n",
    "    documents = documents.sort_values(by=\"rank\", ascending=False)\n",
    "    return documents\n",
    "\n",
    "\n",
    "query = \"What is the future of AI?\"\n",
    "documents = similarity_search(query, k=50)\n",
    "reranked_documents = rerank_documents(query=query, documents=documents)\n",
    "reranked_documents[:5]"
   ]
  },
  {
   "cell_type": "markdown",
   "metadata": {},
   "source": [
    "We can see the returned documents have slightly shifted in the ranking, which is good, because we see that our reranking works."
   ]
  },
  {
   "cell_type": "markdown",
   "metadata": {},
   "source": [
    "## Creating a web app and microservice for reranking\n",
    "\n",
    "We will be using [Gradio](https://github.com/gradio-app/gradio) as web application tool to create a demo interface for our reranking. We can develop this locally and then easily deploy it to Hugging Face Spaces. Lastly, we can use the Gradio client as SDK to directly interact with our reranking microservice.\n",
    "\n",
    "### Creating the web app"
   ]
  },
  {
   "cell_type": "code",
   "execution_count": 25,
   "metadata": {},
   "outputs": [
    {
     "name": "stdout",
     "output_type": "stream",
     "text": [
      "* Running on local URL:  http://127.0.0.1:7871\n",
      "\n",
      "To create a public link, set `share=True` in `launch()`.\n"
     ]
    },
    {
     "data": {
      "text/html": [
       "<div><iframe src=\"http://127.0.0.1:7871/\" width=\"100%\" height=\"500\" allow=\"autoplay; camera; microphone; clipboard-read; clipboard-write;\" frameborder=\"0\" allowfullscreen></iframe></div>"
      ],
      "text/plain": [
       "<IPython.core.display.HTML object>"
      ]
     },
     "metadata": {},
     "output_type": "display_data"
    },
    {
     "data": {
      "text/plain": []
     },
     "execution_count": 25,
     "metadata": {},
     "output_type": "execute_result"
    }
   ],
   "source": [
    "import gradio as gr\n",
    "\n",
    "\n",
    "with gr.Blocks() as demo:\n",
    "    gr.Markdown(\"\"\"# RAG Hub Datasets \n",
    "                \n",
    "                Part of [smol blueprint](https://github.com/davidberenstein1957/smol-blueprint) - a smol blueprint for AI development, focusing on practical examples of RAG, information extraction, analysis and fine-tuning in the age of LLMs.\"\"\")\n",
    "\n",
    "    query_input = gr.Textbox(\n",
    "        label=\"Query\", placeholder=\"Enter your question here...\", lines=3\n",
    "    )\n",
    "    documents_input = gr.Dataframe(\n",
    "        label=\"Documents\", headers=[\"chunk\"], wrap=True, interactive=True\n",
    "    )\n",
    "\n",
    "    submit_btn = gr.Button(\"Submit\")\n",
    "    documents_output = gr.Dataframe(\n",
    "        label=\"Documents\", headers=[\"chunk\", \"rank\"], wrap=True\n",
    "    )\n",
    "\n",
    "    submit_btn.click(\n",
    "        fn=rerank_documents,\n",
    "        inputs=[query_input, documents_input],\n",
    "        outputs=[documents_output],\n",
    "    )\n",
    "\n",
    "demo.launch(share=True) # share=True is used to share the app with the public"
   ]
  },
  {
   "cell_type": "markdown",
   "metadata": {},
   "source": [
    "<iframe\n",
    "\tsrc=\"https://smol-blueprint-rag-augment.hf.space\"\n",
    "\tframeborder=\"0\"\n",
    "\twidth=\"850\"\n",
    "\theight=\"450\"\n",
    "></iframe>"
   ]
  },
  {
   "cell_type": "markdown",
   "metadata": {},
   "source": [
    "### Deploying the web app to Hugging Face\n",
    "\n",
    "We can now [deploy our Gradio application to Hugging Face Spaces](https://huggingface.co/new-space?sdk=gradio&name=rag-augment).\n",
    "\n",
    "-  Click on the \"Create Space\" button.\n",
    "-  Copy the code from the Gradio interface and paste it into an `app.py` file. Don't forget to copy the `generate_response_*` function, along with the code to execute the RAG pipeline.\n",
    "-  Create a `requirements.txt` file with `gradio-client` and `sentence-transformers`.\n",
    "-  Set a Hugging Face API as `HF_TOKEN` secret variable in the space settings, if you are using the Inference API.\n",
    "\n",
    "We wait a couple of minutes for the application to deploy et voila, we have [a public RAG interface](https://huggingface.co/spaces/smol-blueprint/rag-augment)!"
   ]
  },
  {
   "cell_type": "markdown",
   "metadata": {},
   "source": [
    "### Using the web app as a microservice\n",
    "\n",
    "We can now use the [Gradio client as SDK](https://www.gradio.app/guides/getting-started-with-the-python-client) to directly interact with our RAG pipeline. Each Gradio app has a API documentation that describes the available endpoints and their parameters, which you can access from the button at the bottom of the Gradio app's space page."
   ]
  },
  {
   "cell_type": "code",
   "execution_count": 45,
   "metadata": {},
   "outputs": [
    {
     "name": "stdout",
     "output_type": "stream",
     "text": [
      "Loaded as API: https://smol-blueprint-rag-augment.hf.space/ ✔\n"
     ]
    },
    {
     "data": {
      "text/plain": [
       "{'headers': ['chunk', 'url', 'distance', 'rank'],\n",
       " 'data': [[\"- Video: Exactly what is AI?\\n- Which jobs will AI steal first?\\n- Timeline: 15 key stops on the long road to AI\\n- Explainer: How computers file sports reports\\n- Rory's blog: Why AI matters\\n- Intelligent Machines special report\\nProduced by Nassos Stylianou, Tom Nurse, Gerry Fletcher, Aidan Fewster, Richard Bangay and John Walton.\",\n",
       "   'https://www.bbc.com/news/technology-34066941',\n",
       "   0.3924022912979126,\n",
       "   0.5008156895637512],\n",
       "  ['Can artificial intelligence predict the future of fashion?\\nMany fashion companies are turning to artificial intelligence (AI) to help predict future fashion trends. One system detects the colour, pattern, size and combination of clothes in social media images and e-commerce websites. The company behind it says the AI can help work out what is popular in both local and global markets.',\n",
       "   'https://www.bbc.com/news/av/technology-46104433',\n",
       "   0.37602144479751587,\n",
       "   0.4990140497684479],\n",
       "  ['Singularity: The robots are coming to steal our jobs\\n- 13 January 2014\\n- From the section Technology\\nIf you worry that the robots are coming, don\\'t, because they are already here. Artificial intelligence agents are already involved in every aspect of our lives - they keep our inboxes free of spam, they help us make our web transactions, they fly our planes and if Google gets its way will also soon drive our cars for us. \"AI\\'s are embedded in the fabric of our everyday lives,\" head of AI at Singularity University, Neil Jacobstein, told the BBC. \"They are used in medicine, in law, in design and throughout automotive industry. \"\\nAnd each day the algorithms that power away, making decisions behind the scenes, are getting smarter. It means that one of the biggest quests of the modern world - the search to make machines as intelligent as humans - could be getting tantalisingly close. Mr Jacobstein predicts that artificial intelligence will overtake human intelligence in the mid-2020s, begging the question - what will a society dominated by machine intelligence look like and what exactly will be our role in it?\\nWe may get to put our feet up more, for a start. Chinese company Hon Hai, the world\\'s largest contract electronics manufacturer, has announced it intends to build a robot-making factory and replace 500,000 workers with robots over the next three years. But not having a job will also mean not having a wage, a radical change for a world used to working for a living. \"AIs will cause significant unemployment but that doesn\\'t equate with poverty,\" said Mr Jacobstein. \"AIs and other exponential technologies are going to generate vast amounts of wealth. \"We have to be willing to change the social contract we have with people about how wealth is distributed. \"\\nHe tends towards the optimistic view of machines and humans working in perfect harmony, side by side. \"The best combination for problem solving is a human and a computer,\" he said.',\n",
       "   'http://www.bbc.co.uk/news/technology-25000756',\n",
       "   0.39598381519317627,\n",
       "   0.4979342222213745],\n",
       "  ['\"The manifold of things which were lumped into the term \"AI\" will be recognised and discussed separately,\" said Samim Winiger, a former AI researcher at Google in Berlin. \"What we called \\'AI\\' or \\'machine learning\\' during the past 10-20 years, will be seen as just yet another form of \\'computation\\'\".',\n",
       "   'https://www.bbc.com/news/technology-51064369',\n",
       "   0.35873597860336304,\n",
       "   0.4977686405181885],\n",
       "  ['\"This is why AI is a long-term scientific research journey. \"We believe AI will be one of the most powerful enabling technologies ever created - a single invention that could unlock solutions to thousands of problems. The next decade will see renewed efforts to generalise the capabilities of AI systems to help achieve that potential - both building on methods that have already been successful and researching how to build general-purpose AI that can tackle a wide range of tasks. \"\\n\\'Far to go\\'\\nWhile AGI isn\\'t going to be created any time soon, machines have learned how to master complex tasks like:\\n- playing the ancient Chinese board game Go\\n- identifying human faces\\n- translating text into practically every language\\n- spotting tumours\\n- driving cars\\n- identifying animals. The relevance of these advances was overhyped at times, says ex-DeepMinder Edward Grefenstette, who now works in the Facebook AI Research group as a research scientist. \"The field has come a very long way in the past decade, but we are very much aware that we still have far to go in scientific and technological advances to make machines truly intelligent,\" he said. \"One of the biggest challenges is to develop methods that are much more efficient in terms of the data and compute power required to learn to solve a problem well. In the past decade, we\\'ve seen impressive advances made by increasing the scale of data and computation available, but that\\'s not appropriate or scalable for every problem. \"If we want to scale to more complex behaviour, we need to do better with less data, and we need to generalise more. \"\\nNeil Lawrence, who recently left Amazon and joined the University of Cambridge as the first DeepMind-funded professor of machine learning, thinks that the AI industry is very much still in the \"wonder years\". So what will AI look like at the end of the 20s, and how will researchers go about developing it?\\n\"In the next decade, I hope we\\'ll see a more measured, realistic view of AI\\'s capability, rather than the hype we\\'ve seen so far,\" said Catherine Breslin, an ex-Amazon AI researcher. The term \"AI\" became a real buzzword through the last decade, with companies of all shapes and sizes latching onto the term, often for marketing purposes.',\n",
       "   'https://www.bbc.com/news/technology-51064369',\n",
       "   0.384782075881958,\n",
       "   0.49694013595581055],\n",
       "  ['The last decade was a big one for artificial intelligence but researchers in the field believe that the industry is about to enter a new phase. Hype surrounding AI has peaked and troughed over the years as the abilities of the technology get overestimated and then re-evaluated. The peaks are known as AI summers, and the troughs AI winters. The 10s were arguably the hottest AI summer on record with tech giants repeatedly touting AI\\'s abilities. AI pioneer Yoshua Bengio, sometimes called one of the \"godfathers of AI\", told the BBC that AI\\'s abilities were somewhat overhyped in the 10s by certain companies with an interest in doing so. There are signs, however, that the hype might be about to start cooling off. \"I have the sense that AI is transitioning to a new phase,\" said Katja Hofmann, a principal researcher at Microsoft Research in Cambridge. Given the billions being invested in AI and the fact that there are likely to be more breakthroughs ahead, some researchers believe it would be wrong to call this new phase an AI winter. Robot Wars judge Noel Sharkey, who is also a professor of AI and robotics at Sheffield University, told the BBC that he likes the term \"AI autumn\" - and several others agree. \\'Feeling of plateau\\'\\nAt the start of the 2010s, one of the world leaders in AI, DeepMind, often referred to something called AGI, or \"artificial general intelligence\" being developed at some point in the future. Machines that possess AGI - widely thought of as the holy grail in AI - would be just as smart as humans across the board, it promised. DeepMind\\'s lofty AGI ambitions caught the attention of Google, who paid around £400m for the London-based AI lab in 2014 when it had the following mission statement splashed across its website: \"Solve intelligence, and then use that to solve everything else.',\n",
       "   'https://www.bbc.com/news/technology-51064369',\n",
       "   0.2601972818374634,\n",
       "   0.4959486126899719],\n",
       "  ['Google has its own AI labs and has been investing heavily in AI and robotics firms.',\n",
       "   'http://www.bbc.com/news/technology-30432493',\n",
       "   0.3915504217147827,\n",
       "   0.4953177273273468],\n",
       "  ['\"\\nSeveral others started to talk about AGI becoming a reality, including Elon Musk\\'s $1bn AI lab, OpenAI, and academics like MIT professor Max Tegmark. In 2014, Nick Bostrom, a philosopher at Oxford University, went one step further with his book Superintelligence. It predicts a world where machines are firmly in control. But those conversations were taken less and less seriously as the decade went on. At the end of 2019, the smartest computers could still only excel at a \"narrow\" selection of tasks. Gary Marcus, an AI researcher at New York University, said: \"By the end of the decade there was a growing realisation that current techniques can only carry us so far. \"\\nHe thinks the industry needs some \"real innovation\" to go further. \"There is a general feeling of plateau,\" said Verena Rieser, a professor in conversational AI at Edinburgh\\'s Heriot Watt University. One AI researcher who wishes to remain anonymous said we\\'re entering a period where we are especially sceptical about AGI. \"The public perception of AI is increasingly dark: the public believes AI is a sinister technology,\" they said. For its part, DeepMind has a more optimistic view of AI\\'s potential, suggesting that as yet \"we\\'re only just scratching the surface of what might be possible\". \"As the community solves and discovers more, further challenging problems open up,\" explained Koray Kavukcuoglu, its vice president of research.',\n",
       "   'https://www.bbc.com/news/technology-51064369',\n",
       "   0.37062448263168335,\n",
       "   0.49524182081222534],\n",
       "  [\"Artificial intelligence (AI) is one of the most exciting technologies today, and Africa doesn't want to be left behind. Today a majority of the AI industry is in North America, Europe and Asia. Efforts are being made to train computer scientists from African nations, as AI can be used to solve many complex challenges. In a bid to improve diversity, tech giants are providing investment to develop new talent. In April, Google opened its first African AI research centre in Ghana. The AI laboratory, based in Accra, will be used to develop solutions to help improve healthcare, agriculture and education. Google's head of AI Accra Moustapha Cisse is from Senegal. After completing an undergraduate degree in maths and physics in Senegal, he taught himself AI and then went to study in Paris, before joining Facebook.\",\n",
       "   'https://www.bbc.co.uk/news/business-48139212',\n",
       "   0.364774227142334,\n",
       "   0.4924158453941345]],\n",
       " 'metadata': None}"
      ]
     },
     "execution_count": 45,
     "metadata": {},
     "output_type": "execute_result"
    }
   ],
   "source": [
    "from gradio_client import Client\n",
    "\n",
    "client = Client(\"https://smol-blueprint-rag-augment.hf.space/\")\n",
    "\n",
    "df = similarity_search(\"What is the future of AI?\", k=10)\n",
    "result = client.predict(\n",
    "    query=\"What is the future of AI?\",\n",
    "    documents={\"headers\": df.columns.tolist(), \"data\": df.values.tolist(), \"metadata\": None},\n",
    "    api_name=\"/rerank_documents\",\n",
    ")\n",
    "result"
   ]
  },
  {
   "cell_type": "markdown",
   "metadata": {},
   "source": [
    "## Next steps\n",
    "\n",
    "We have seen how to create a reranker using the sentence-transformers library and how to deploy it as a microservice on Hugging Face Spaces. Next steps will be to create a model that can be used to generate a response to a query.\n",
    "\n",
    "[Generate a responses based on retrieved documents using a SmolLM](./generate.ipynb)"
   ]
  }
 ],
 "metadata": {
  "kernelspec": {
   "display_name": ".venv",
   "language": "python",
   "name": "python3"
  },
  "language_info": {
   "codemirror_mode": {
    "name": "ipython",
    "version": 3
   },
   "file_extension": ".py",
   "mimetype": "text/x-python",
   "name": "python",
   "nbconvert_exporter": "python",
   "pygments_lexer": "ipython3",
   "version": "3.12.8"
  }
 },
 "nbformat": 4,
 "nbformat_minor": 2
}
